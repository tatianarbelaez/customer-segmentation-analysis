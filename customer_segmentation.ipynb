{
 "cells": [
  {
   "cell_type": "markdown",
   "id": "4489a96f",
   "metadata": {},
   "source": [
    "<div style=\"width: 100%; clear: both;\">\n",
    "<div style=\"float: left; width: 50%;\">\n",
    "<img style=\"width: 100px;\"src=\"https://w1.pngwing.com/pngs/169/44/png-transparent-circle-logo-systems-analyst-professional-job-analysis-job-description-project-career.png\", align=\"left\">\n",
    "</div>\n",
    "<div style=\"float: right; width: 50%;\">\n",
    "<p style=\"margin: 0; padding-top: 22px; text-align:right;\">CRM Data Analyst Case</p>\n",
    "<p style=\"margin: 0; text-align:right;\">Tatiana Andrea Arbeláez Parra</p>\n",
    "<p style=\"margin: 0; text-align:right; padding-button: 100px;\">Economist</p>\n",
    "</div>\n",
    "</div>\n",
    "<div style=\"width:100%;\">&nbsp;</div>\n",
    "\n",
    "\n",
    "# CRM Data Analyst Case"
   ]
  },
  {
   "cell_type": "markdown",
   "id": "c83469b9",
   "metadata": {},
   "source": [
    "# 1. Explore the data"
   ]
  },
  {
   "cell_type": "markdown",
   "id": "0ce9a15a",
   "metadata": {},
   "source": [
    "# Data load\n",
    "We will read the CSV file as a pandas dataframe:"
   ]
  },
  {
   "cell_type": "code",
   "execution_count": 1,
   "id": "d8c253f8",
   "metadata": {},
   "outputs": [],
   "source": [
    "import time\n",
    "\n",
    "import numpy as np\n",
    "import pandas as pd"
   ]
  },
  {
   "cell_type": "code",
   "execution_count": 2,
   "id": "9c2acdb4",
   "metadata": {},
   "outputs": [
    {
     "data": {
      "text/html": [
       "<div>\n",
       "<style scoped>\n",
       "    .dataframe tbody tr th:only-of-type {\n",
       "        vertical-align: middle;\n",
       "    }\n",
       "\n",
       "    .dataframe tbody tr th {\n",
       "        vertical-align: top;\n",
       "    }\n",
       "\n",
       "    .dataframe thead th {\n",
       "        text-align: right;\n",
       "    }\n",
       "</style>\n",
       "<table border=\"1\" class=\"dataframe\">\n",
       "  <thead>\n",
       "    <tr style=\"text-align: right;\">\n",
       "      <th></th>\n",
       "      <th>ID</th>\n",
       "      <th>Year_Birth</th>\n",
       "      <th>Education</th>\n",
       "      <th>Marital_Status</th>\n",
       "      <th>Income</th>\n",
       "      <th>Kidhome</th>\n",
       "      <th>Teenhome</th>\n",
       "      <th>Dt_Customer</th>\n",
       "      <th>Recency</th>\n",
       "      <th>MntWines</th>\n",
       "      <th>...</th>\n",
       "      <th>NumWebVisitsMonth</th>\n",
       "      <th>AcceptedCmp3</th>\n",
       "      <th>AcceptedCmp4</th>\n",
       "      <th>AcceptedCmp5</th>\n",
       "      <th>AcceptedCmp1</th>\n",
       "      <th>AcceptedCmp2</th>\n",
       "      <th>Complain</th>\n",
       "      <th>Z_CostContact</th>\n",
       "      <th>Z_Revenue</th>\n",
       "      <th>Response</th>\n",
       "    </tr>\n",
       "  </thead>\n",
       "  <tbody>\n",
       "    <tr>\n",
       "      <th>0</th>\n",
       "      <td>5524</td>\n",
       "      <td>1957</td>\n",
       "      <td>Graduation</td>\n",
       "      <td>Single</td>\n",
       "      <td>58138.0</td>\n",
       "      <td>0</td>\n",
       "      <td>0</td>\n",
       "      <td>2012-09-04</td>\n",
       "      <td>58</td>\n",
       "      <td>635</td>\n",
       "      <td>...</td>\n",
       "      <td>7</td>\n",
       "      <td>0</td>\n",
       "      <td>0</td>\n",
       "      <td>0</td>\n",
       "      <td>0</td>\n",
       "      <td>0</td>\n",
       "      <td>0</td>\n",
       "      <td>3</td>\n",
       "      <td>11</td>\n",
       "      <td>1</td>\n",
       "    </tr>\n",
       "    <tr>\n",
       "      <th>1</th>\n",
       "      <td>2174</td>\n",
       "      <td>1954</td>\n",
       "      <td>Graduation</td>\n",
       "      <td>Single</td>\n",
       "      <td>46344.0</td>\n",
       "      <td>1</td>\n",
       "      <td>1</td>\n",
       "      <td>2014-03-08</td>\n",
       "      <td>38</td>\n",
       "      <td>11</td>\n",
       "      <td>...</td>\n",
       "      <td>5</td>\n",
       "      <td>0</td>\n",
       "      <td>0</td>\n",
       "      <td>0</td>\n",
       "      <td>0</td>\n",
       "      <td>0</td>\n",
       "      <td>0</td>\n",
       "      <td>3</td>\n",
       "      <td>11</td>\n",
       "      <td>0</td>\n",
       "    </tr>\n",
       "    <tr>\n",
       "      <th>2</th>\n",
       "      <td>4141</td>\n",
       "      <td>1965</td>\n",
       "      <td>Graduation</td>\n",
       "      <td>Together</td>\n",
       "      <td>71613.0</td>\n",
       "      <td>0</td>\n",
       "      <td>0</td>\n",
       "      <td>2013-08-21</td>\n",
       "      <td>26</td>\n",
       "      <td>426</td>\n",
       "      <td>...</td>\n",
       "      <td>4</td>\n",
       "      <td>0</td>\n",
       "      <td>0</td>\n",
       "      <td>0</td>\n",
       "      <td>0</td>\n",
       "      <td>0</td>\n",
       "      <td>0</td>\n",
       "      <td>3</td>\n",
       "      <td>11</td>\n",
       "      <td>0</td>\n",
       "    </tr>\n",
       "    <tr>\n",
       "      <th>3</th>\n",
       "      <td>6182</td>\n",
       "      <td>1984</td>\n",
       "      <td>Graduation</td>\n",
       "      <td>Together</td>\n",
       "      <td>26646.0</td>\n",
       "      <td>1</td>\n",
       "      <td>0</td>\n",
       "      <td>2014-02-10</td>\n",
       "      <td>26</td>\n",
       "      <td>11</td>\n",
       "      <td>...</td>\n",
       "      <td>6</td>\n",
       "      <td>0</td>\n",
       "      <td>0</td>\n",
       "      <td>0</td>\n",
       "      <td>0</td>\n",
       "      <td>0</td>\n",
       "      <td>0</td>\n",
       "      <td>3</td>\n",
       "      <td>11</td>\n",
       "      <td>0</td>\n",
       "    </tr>\n",
       "    <tr>\n",
       "      <th>4</th>\n",
       "      <td>5324</td>\n",
       "      <td>1981</td>\n",
       "      <td>PhD</td>\n",
       "      <td>Married</td>\n",
       "      <td>58293.0</td>\n",
       "      <td>1</td>\n",
       "      <td>0</td>\n",
       "      <td>2014-01-19</td>\n",
       "      <td>94</td>\n",
       "      <td>173</td>\n",
       "      <td>...</td>\n",
       "      <td>5</td>\n",
       "      <td>0</td>\n",
       "      <td>0</td>\n",
       "      <td>0</td>\n",
       "      <td>0</td>\n",
       "      <td>0</td>\n",
       "      <td>0</td>\n",
       "      <td>3</td>\n",
       "      <td>11</td>\n",
       "      <td>0</td>\n",
       "    </tr>\n",
       "  </tbody>\n",
       "</table>\n",
       "<p>5 rows × 29 columns</p>\n",
       "</div>"
      ],
      "text/plain": [
       "     ID  Year_Birth   Education Marital_Status   Income  Kidhome  Teenhome  \\\n",
       "0  5524        1957  Graduation         Single  58138.0        0         0   \n",
       "1  2174        1954  Graduation         Single  46344.0        1         1   \n",
       "2  4141        1965  Graduation       Together  71613.0        0         0   \n",
       "3  6182        1984  Graduation       Together  26646.0        1         0   \n",
       "4  5324        1981         PhD        Married  58293.0        1         0   \n",
       "\n",
       "  Dt_Customer  Recency  MntWines  ...  NumWebVisitsMonth  AcceptedCmp3  \\\n",
       "0  2012-09-04       58       635  ...                  7             0   \n",
       "1  2014-03-08       38        11  ...                  5             0   \n",
       "2  2013-08-21       26       426  ...                  4             0   \n",
       "3  2014-02-10       26        11  ...                  6             0   \n",
       "4  2014-01-19       94       173  ...                  5             0   \n",
       "\n",
       "   AcceptedCmp4  AcceptedCmp5  AcceptedCmp1  AcceptedCmp2  Complain  \\\n",
       "0             0             0             0             0         0   \n",
       "1             0             0             0             0         0   \n",
       "2             0             0             0             0         0   \n",
       "3             0             0             0             0         0   \n",
       "4             0             0             0             0         0   \n",
       "\n",
       "   Z_CostContact  Z_Revenue  Response  \n",
       "0              3         11         1  \n",
       "1              3         11         0  \n",
       "2              3         11         0  \n",
       "3              3         11         0  \n",
       "4              3         11         0  \n",
       "\n",
       "[5 rows x 29 columns]"
      ]
     },
     "execution_count": 2,
     "metadata": {},
     "output_type": "execute_result"
    }
   ],
   "source": [
    "customer_reto = pd.read_csv('ml_project1_data.csv', parse_dates=['Dt_Customer'], header=0) \n",
    "customer_reto.head()"
   ]
  },
  {
   "cell_type": "code",
   "execution_count": 3,
   "id": "314cd570",
   "metadata": {},
   "outputs": [
    {
     "data": {
      "text/plain": [
       "Index(['ID', 'Year_Birth', 'Education', 'Marital_Status', 'Income', 'Kidhome',\n",
       "       'Teenhome', 'Dt_Customer', 'Recency', 'MntWines', 'MntFruits',\n",
       "       'MntMeatProducts', 'MntFishProducts', 'MntSweetProducts',\n",
       "       'MntGoldProds', 'NumDealsPurchases', 'NumWebPurchases',\n",
       "       'NumCatalogPurchases', 'NumStorePurchases', 'NumWebVisitsMonth',\n",
       "       'AcceptedCmp3', 'AcceptedCmp4', 'AcceptedCmp5', 'AcceptedCmp1',\n",
       "       'AcceptedCmp2', 'Complain', 'Z_CostContact', 'Z_Revenue', 'Response'],\n",
       "      dtype='object')"
      ]
     },
     "execution_count": 3,
     "metadata": {},
     "output_type": "execute_result"
    }
   ],
   "source": [
    "customer_reto.columns"
   ]
  },
  {
   "cell_type": "code",
   "execution_count": 4,
   "id": "9749a281",
   "metadata": {},
   "outputs": [
    {
     "data": {
      "text/html": [
       "<div>\n",
       "<style scoped>\n",
       "    .dataframe tbody tr th:only-of-type {\n",
       "        vertical-align: middle;\n",
       "    }\n",
       "\n",
       "    .dataframe tbody tr th {\n",
       "        vertical-align: top;\n",
       "    }\n",
       "\n",
       "    .dataframe thead th {\n",
       "        text-align: right;\n",
       "    }\n",
       "</style>\n",
       "<table border=\"1\" class=\"dataframe\">\n",
       "  <thead>\n",
       "    <tr style=\"text-align: right;\">\n",
       "      <th></th>\n",
       "      <th>ID</th>\n",
       "      <th>Year_Birth</th>\n",
       "      <th>Income</th>\n",
       "      <th>Kidhome</th>\n",
       "      <th>Teenhome</th>\n",
       "      <th>Recency</th>\n",
       "      <th>MntWines</th>\n",
       "      <th>MntFruits</th>\n",
       "      <th>MntMeatProducts</th>\n",
       "      <th>MntFishProducts</th>\n",
       "      <th>...</th>\n",
       "      <th>NumWebVisitsMonth</th>\n",
       "      <th>AcceptedCmp3</th>\n",
       "      <th>AcceptedCmp4</th>\n",
       "      <th>AcceptedCmp5</th>\n",
       "      <th>AcceptedCmp1</th>\n",
       "      <th>AcceptedCmp2</th>\n",
       "      <th>Complain</th>\n",
       "      <th>Z_CostContact</th>\n",
       "      <th>Z_Revenue</th>\n",
       "      <th>Response</th>\n",
       "    </tr>\n",
       "  </thead>\n",
       "  <tbody>\n",
       "    <tr>\n",
       "      <th>count</th>\n",
       "      <td>2240.000000</td>\n",
       "      <td>2240.000000</td>\n",
       "      <td>2216.000000</td>\n",
       "      <td>2240.000000</td>\n",
       "      <td>2240.000000</td>\n",
       "      <td>2240.000000</td>\n",
       "      <td>2240.000000</td>\n",
       "      <td>2240.000000</td>\n",
       "      <td>2240.000000</td>\n",
       "      <td>2240.000000</td>\n",
       "      <td>...</td>\n",
       "      <td>2240.000000</td>\n",
       "      <td>2240.000000</td>\n",
       "      <td>2240.000000</td>\n",
       "      <td>2240.000000</td>\n",
       "      <td>2240.000000</td>\n",
       "      <td>2240.000000</td>\n",
       "      <td>2240.000000</td>\n",
       "      <td>2240.0</td>\n",
       "      <td>2240.0</td>\n",
       "      <td>2240.000000</td>\n",
       "    </tr>\n",
       "    <tr>\n",
       "      <th>mean</th>\n",
       "      <td>5592.159821</td>\n",
       "      <td>1968.805804</td>\n",
       "      <td>52247.251354</td>\n",
       "      <td>0.444196</td>\n",
       "      <td>0.506250</td>\n",
       "      <td>49.109375</td>\n",
       "      <td>303.935714</td>\n",
       "      <td>26.302232</td>\n",
       "      <td>166.950000</td>\n",
       "      <td>37.525446</td>\n",
       "      <td>...</td>\n",
       "      <td>5.316518</td>\n",
       "      <td>0.072768</td>\n",
       "      <td>0.074554</td>\n",
       "      <td>0.072768</td>\n",
       "      <td>0.064286</td>\n",
       "      <td>0.013393</td>\n",
       "      <td>0.009375</td>\n",
       "      <td>3.0</td>\n",
       "      <td>11.0</td>\n",
       "      <td>0.149107</td>\n",
       "    </tr>\n",
       "    <tr>\n",
       "      <th>std</th>\n",
       "      <td>3246.662198</td>\n",
       "      <td>11.984069</td>\n",
       "      <td>25173.076661</td>\n",
       "      <td>0.538398</td>\n",
       "      <td>0.544538</td>\n",
       "      <td>28.962453</td>\n",
       "      <td>336.597393</td>\n",
       "      <td>39.773434</td>\n",
       "      <td>225.715373</td>\n",
       "      <td>54.628979</td>\n",
       "      <td>...</td>\n",
       "      <td>2.426645</td>\n",
       "      <td>0.259813</td>\n",
       "      <td>0.262728</td>\n",
       "      <td>0.259813</td>\n",
       "      <td>0.245316</td>\n",
       "      <td>0.114976</td>\n",
       "      <td>0.096391</td>\n",
       "      <td>0.0</td>\n",
       "      <td>0.0</td>\n",
       "      <td>0.356274</td>\n",
       "    </tr>\n",
       "    <tr>\n",
       "      <th>min</th>\n",
       "      <td>0.000000</td>\n",
       "      <td>1893.000000</td>\n",
       "      <td>1730.000000</td>\n",
       "      <td>0.000000</td>\n",
       "      <td>0.000000</td>\n",
       "      <td>0.000000</td>\n",
       "      <td>0.000000</td>\n",
       "      <td>0.000000</td>\n",
       "      <td>0.000000</td>\n",
       "      <td>0.000000</td>\n",
       "      <td>...</td>\n",
       "      <td>0.000000</td>\n",
       "      <td>0.000000</td>\n",
       "      <td>0.000000</td>\n",
       "      <td>0.000000</td>\n",
       "      <td>0.000000</td>\n",
       "      <td>0.000000</td>\n",
       "      <td>0.000000</td>\n",
       "      <td>3.0</td>\n",
       "      <td>11.0</td>\n",
       "      <td>0.000000</td>\n",
       "    </tr>\n",
       "    <tr>\n",
       "      <th>25%</th>\n",
       "      <td>2828.250000</td>\n",
       "      <td>1959.000000</td>\n",
       "      <td>35303.000000</td>\n",
       "      <td>0.000000</td>\n",
       "      <td>0.000000</td>\n",
       "      <td>24.000000</td>\n",
       "      <td>23.750000</td>\n",
       "      <td>1.000000</td>\n",
       "      <td>16.000000</td>\n",
       "      <td>3.000000</td>\n",
       "      <td>...</td>\n",
       "      <td>3.000000</td>\n",
       "      <td>0.000000</td>\n",
       "      <td>0.000000</td>\n",
       "      <td>0.000000</td>\n",
       "      <td>0.000000</td>\n",
       "      <td>0.000000</td>\n",
       "      <td>0.000000</td>\n",
       "      <td>3.0</td>\n",
       "      <td>11.0</td>\n",
       "      <td>0.000000</td>\n",
       "    </tr>\n",
       "    <tr>\n",
       "      <th>50%</th>\n",
       "      <td>5458.500000</td>\n",
       "      <td>1970.000000</td>\n",
       "      <td>51381.500000</td>\n",
       "      <td>0.000000</td>\n",
       "      <td>0.000000</td>\n",
       "      <td>49.000000</td>\n",
       "      <td>173.500000</td>\n",
       "      <td>8.000000</td>\n",
       "      <td>67.000000</td>\n",
       "      <td>12.000000</td>\n",
       "      <td>...</td>\n",
       "      <td>6.000000</td>\n",
       "      <td>0.000000</td>\n",
       "      <td>0.000000</td>\n",
       "      <td>0.000000</td>\n",
       "      <td>0.000000</td>\n",
       "      <td>0.000000</td>\n",
       "      <td>0.000000</td>\n",
       "      <td>3.0</td>\n",
       "      <td>11.0</td>\n",
       "      <td>0.000000</td>\n",
       "    </tr>\n",
       "    <tr>\n",
       "      <th>75%</th>\n",
       "      <td>8427.750000</td>\n",
       "      <td>1977.000000</td>\n",
       "      <td>68522.000000</td>\n",
       "      <td>1.000000</td>\n",
       "      <td>1.000000</td>\n",
       "      <td>74.000000</td>\n",
       "      <td>504.250000</td>\n",
       "      <td>33.000000</td>\n",
       "      <td>232.000000</td>\n",
       "      <td>50.000000</td>\n",
       "      <td>...</td>\n",
       "      <td>7.000000</td>\n",
       "      <td>0.000000</td>\n",
       "      <td>0.000000</td>\n",
       "      <td>0.000000</td>\n",
       "      <td>0.000000</td>\n",
       "      <td>0.000000</td>\n",
       "      <td>0.000000</td>\n",
       "      <td>3.0</td>\n",
       "      <td>11.0</td>\n",
       "      <td>0.000000</td>\n",
       "    </tr>\n",
       "    <tr>\n",
       "      <th>max</th>\n",
       "      <td>11191.000000</td>\n",
       "      <td>1996.000000</td>\n",
       "      <td>666666.000000</td>\n",
       "      <td>2.000000</td>\n",
       "      <td>2.000000</td>\n",
       "      <td>99.000000</td>\n",
       "      <td>1493.000000</td>\n",
       "      <td>199.000000</td>\n",
       "      <td>1725.000000</td>\n",
       "      <td>259.000000</td>\n",
       "      <td>...</td>\n",
       "      <td>20.000000</td>\n",
       "      <td>1.000000</td>\n",
       "      <td>1.000000</td>\n",
       "      <td>1.000000</td>\n",
       "      <td>1.000000</td>\n",
       "      <td>1.000000</td>\n",
       "      <td>1.000000</td>\n",
       "      <td>3.0</td>\n",
       "      <td>11.0</td>\n",
       "      <td>1.000000</td>\n",
       "    </tr>\n",
       "  </tbody>\n",
       "</table>\n",
       "<p>8 rows × 26 columns</p>\n",
       "</div>"
      ],
      "text/plain": [
       "                 ID   Year_Birth         Income      Kidhome     Teenhome  \\\n",
       "count   2240.000000  2240.000000    2216.000000  2240.000000  2240.000000   \n",
       "mean    5592.159821  1968.805804   52247.251354     0.444196     0.506250   \n",
       "std     3246.662198    11.984069   25173.076661     0.538398     0.544538   \n",
       "min        0.000000  1893.000000    1730.000000     0.000000     0.000000   \n",
       "25%     2828.250000  1959.000000   35303.000000     0.000000     0.000000   \n",
       "50%     5458.500000  1970.000000   51381.500000     0.000000     0.000000   \n",
       "75%     8427.750000  1977.000000   68522.000000     1.000000     1.000000   \n",
       "max    11191.000000  1996.000000  666666.000000     2.000000     2.000000   \n",
       "\n",
       "           Recency     MntWines    MntFruits  MntMeatProducts  \\\n",
       "count  2240.000000  2240.000000  2240.000000      2240.000000   \n",
       "mean     49.109375   303.935714    26.302232       166.950000   \n",
       "std      28.962453   336.597393    39.773434       225.715373   \n",
       "min       0.000000     0.000000     0.000000         0.000000   \n",
       "25%      24.000000    23.750000     1.000000        16.000000   \n",
       "50%      49.000000   173.500000     8.000000        67.000000   \n",
       "75%      74.000000   504.250000    33.000000       232.000000   \n",
       "max      99.000000  1493.000000   199.000000      1725.000000   \n",
       "\n",
       "       MntFishProducts  ...  NumWebVisitsMonth  AcceptedCmp3  AcceptedCmp4  \\\n",
       "count      2240.000000  ...        2240.000000   2240.000000   2240.000000   \n",
       "mean         37.525446  ...           5.316518      0.072768      0.074554   \n",
       "std          54.628979  ...           2.426645      0.259813      0.262728   \n",
       "min           0.000000  ...           0.000000      0.000000      0.000000   \n",
       "25%           3.000000  ...           3.000000      0.000000      0.000000   \n",
       "50%          12.000000  ...           6.000000      0.000000      0.000000   \n",
       "75%          50.000000  ...           7.000000      0.000000      0.000000   \n",
       "max         259.000000  ...          20.000000      1.000000      1.000000   \n",
       "\n",
       "       AcceptedCmp5  AcceptedCmp1  AcceptedCmp2     Complain  Z_CostContact  \\\n",
       "count   2240.000000   2240.000000   2240.000000  2240.000000         2240.0   \n",
       "mean       0.072768      0.064286      0.013393     0.009375            3.0   \n",
       "std        0.259813      0.245316      0.114976     0.096391            0.0   \n",
       "min        0.000000      0.000000      0.000000     0.000000            3.0   \n",
       "25%        0.000000      0.000000      0.000000     0.000000            3.0   \n",
       "50%        0.000000      0.000000      0.000000     0.000000            3.0   \n",
       "75%        0.000000      0.000000      0.000000     0.000000            3.0   \n",
       "max        1.000000      1.000000      1.000000     1.000000            3.0   \n",
       "\n",
       "       Z_Revenue     Response  \n",
       "count     2240.0  2240.000000  \n",
       "mean        11.0     0.149107  \n",
       "std          0.0     0.356274  \n",
       "min         11.0     0.000000  \n",
       "25%         11.0     0.000000  \n",
       "50%         11.0     0.000000  \n",
       "75%         11.0     0.000000  \n",
       "max         11.0     1.000000  \n",
       "\n",
       "[8 rows x 26 columns]"
      ]
     },
     "execution_count": 4,
     "metadata": {},
     "output_type": "execute_result"
    }
   ],
   "source": [
    "customer_reto.describe()"
   ]
  },
  {
   "cell_type": "code",
   "execution_count": 5,
   "id": "6fbe165e",
   "metadata": {},
   "outputs": [
    {
     "name": "stdout",
     "output_type": "stream",
     "text": [
      "<class 'pandas.core.frame.DataFrame'>\n",
      "RangeIndex: 2240 entries, 0 to 2239\n",
      "Data columns (total 29 columns):\n",
      " #   Column               Non-Null Count  Dtype         \n",
      "---  ------               --------------  -----         \n",
      " 0   ID                   2240 non-null   int64         \n",
      " 1   Year_Birth           2240 non-null   int64         \n",
      " 2   Education            2240 non-null   object        \n",
      " 3   Marital_Status       2240 non-null   object        \n",
      " 4   Income               2216 non-null   float64       \n",
      " 5   Kidhome              2240 non-null   int64         \n",
      " 6   Teenhome             2240 non-null   int64         \n",
      " 7   Dt_Customer          2240 non-null   datetime64[ns]\n",
      " 8   Recency              2240 non-null   int64         \n",
      " 9   MntWines             2240 non-null   int64         \n",
      " 10  MntFruits            2240 non-null   int64         \n",
      " 11  MntMeatProducts      2240 non-null   int64         \n",
      " 12  MntFishProducts      2240 non-null   int64         \n",
      " 13  MntSweetProducts     2240 non-null   int64         \n",
      " 14  MntGoldProds         2240 non-null   int64         \n",
      " 15  NumDealsPurchases    2240 non-null   int64         \n",
      " 16  NumWebPurchases      2240 non-null   int64         \n",
      " 17  NumCatalogPurchases  2240 non-null   int64         \n",
      " 18  NumStorePurchases    2240 non-null   int64         \n",
      " 19  NumWebVisitsMonth    2240 non-null   int64         \n",
      " 20  AcceptedCmp3         2240 non-null   int64         \n",
      " 21  AcceptedCmp4         2240 non-null   int64         \n",
      " 22  AcceptedCmp5         2240 non-null   int64         \n",
      " 23  AcceptedCmp1         2240 non-null   int64         \n",
      " 24  AcceptedCmp2         2240 non-null   int64         \n",
      " 25  Complain             2240 non-null   int64         \n",
      " 26  Z_CostContact        2240 non-null   int64         \n",
      " 27  Z_Revenue            2240 non-null   int64         \n",
      " 28  Response             2240 non-null   int64         \n",
      "dtypes: datetime64[ns](1), float64(1), int64(25), object(2)\n",
      "memory usage: 507.6+ KB\n"
     ]
    }
   ],
   "source": [
    "customer_reto.info()\n"
   ]
  },
  {
   "cell_type": "markdown",
   "id": "92c9bc8a",
   "metadata": {},
   "source": [
    "Response:\n",
    "1. if costumer accepted the offer in the last campaign (target)\n",
    "0. otherwise"
   ]
  },
  {
   "cell_type": "code",
   "execution_count": 6,
   "id": "0fc03285",
   "metadata": {},
   "outputs": [
    {
     "data": {
      "text/plain": [
       "Response\n",
       "0    1906\n",
       "1     334\n",
       "Name: ID, dtype: int64"
      ]
     },
     "execution_count": 6,
     "metadata": {},
     "output_type": "execute_result"
    }
   ],
   "source": [
    "customer_reto.groupby(['Response']).count()['ID']"
   ]
  },
  {
   "cell_type": "code",
   "execution_count": 7,
   "id": "d19541e2",
   "metadata": {},
   "outputs": [
    {
     "data": {
      "text/plain": [
       "Education\n",
       "2n Cycle       203\n",
       "Basic           54\n",
       "Graduation    1127\n",
       "Master         370\n",
       "PhD            486\n",
       "Name: ID, dtype: int64"
      ]
     },
     "execution_count": 7,
     "metadata": {},
     "output_type": "execute_result"
    }
   ],
   "source": [
    "customer_reto.groupby(['Education']).count()['ID']"
   ]
  },
  {
   "cell_type": "code",
   "execution_count": 8,
   "id": "41099392",
   "metadata": {},
   "outputs": [
    {
     "name": "stdout",
     "output_type": "stream",
     "text": [
      "Education\n",
      "2n Cycle       22\n",
      "Basic           2\n",
      "Graduation    152\n",
      "Master         57\n",
      "PhD           101\n",
      "Name: Response, dtype: int64\n"
     ]
    },
    {
     "data": {
      "text/plain": [
       "<AxesSubplot:xlabel='Education'>"
      ]
     },
     "execution_count": 8,
     "metadata": {},
     "output_type": "execute_result"
    },
    {
     "data": {
      "image/png": "[encoded data removed]",
      "text/plain": [
       "<Figure size 432x288 with 1 Axes>"
      ]
     },
     "metadata": {
      "needs_background": "light"
     },
     "output_type": "display_data"
    }
   ],
   "source": [
    "grouped_education=customer_reto.groupby(['Education']).sum()['Response']\n",
    "print(grouped_education)\n",
    "(grouped_education.plot.bar())"
   ]
  },
  {
   "cell_type": "markdown",
   "id": "e04fcd85",
   "metadata": {},
   "source": [
    "How many costumers accepted the offer by level of education:\n",
    "Globally, from 334 costumers who accepted the offer, 152 are in Graduation level, \n",
    "57 in master and 101 in PhD."
   ]
  },
  {
   "cell_type": "code",
   "execution_count": 9,
   "id": "95228689",
   "metadata": {},
   "outputs": [
    {
     "name": "stdout",
     "output_type": "stream",
     "text": [
      "Education\n",
      "2n Cycle      0.108374\n",
      "Basic         0.037037\n",
      "Graduation    0.134871\n",
      "Master        0.154054\n",
      "PhD           0.207819\n",
      "Name: Response, dtype: float64\n"
     ]
    },
    {
     "data": {
      "text/plain": [
       "<AxesSubplot:xlabel='Education'>"
      ]
     },
     "execution_count": 9,
     "metadata": {},
     "output_type": "execute_result"
    },
    {
     "data": {
      "image/png": "[encoded data removed]",
      "text/plain": [
       "<Figure size 432x288 with 1 Axes>"
      ]
     },
     "metadata": {
      "needs_background": "light"
     },
     "output_type": "display_data"
    }
   ],
   "source": [
    "grouped_education2=customer_reto.groupby(['Education']).mean()['Response']\n",
    "print(grouped_education2)\n",
    "(grouped_education2.plot.bar())"
   ]
  },
  {
   "cell_type": "markdown",
   "id": "ec09c6bc",
   "metadata": {},
   "source": [
    "Average of the Response to the target campaign by level of education\n",
    "People with education level: Graduation, Master y Phd had the best mayor average (success rate) "
   ]
  },
  {
   "cell_type": "markdown",
   "id": "d0b78cc4",
   "metadata": {},
   "source": [
    "Costumers distribution by marital status:\n",
    "0. if marital status Absurd\n",
    "1. if marital status Alone\n",
    "2. if marital status divorced\n",
    "3. if marital status married\n",
    "4. if marital status single\n",
    "5. if marital status Together\n",
    "6. if marital status widow\n",
    "7. if marital status YOLO"
   ]
  },
  {
   "cell_type": "code",
   "execution_count": 10,
   "id": "98af40ec",
   "metadata": {},
   "outputs": [
    {
     "data": {
      "text/plain": [
       "Marital_Status\n",
       "Absurd        2\n",
       "Alone         3\n",
       "Divorced    232\n",
       "Married     864\n",
       "Single      480\n",
       "Together    580\n",
       "Widow        77\n",
       "YOLO          2\n",
       "Name: ID, dtype: int64"
      ]
     },
     "execution_count": 10,
     "metadata": {},
     "output_type": "execute_result"
    }
   ],
   "source": [
    "customer_reto.groupby(['Marital_Status']).count()['ID']"
   ]
  },
  {
   "cell_type": "markdown",
   "id": "e49da93c",
   "metadata": {},
   "source": [
    "How many costumers accepted the offer by marital status"
   ]
  },
  {
   "cell_type": "code",
   "execution_count": 11,
   "id": "59a53e49",
   "metadata": {},
   "outputs": [
    {
     "name": "stdout",
     "output_type": "stream",
     "text": [
      "Marital_Status\n",
      "Absurd        1\n",
      "Alone         1\n",
      "Divorced     48\n",
      "Married      98\n",
      "Single      106\n",
      "Together     60\n",
      "Widow        19\n",
      "YOLO          1\n",
      "Name: Response, dtype: int64\n"
     ]
    },
    {
     "data": {
      "text/plain": [
       "<AxesSubplot:xlabel='Marital_Status'>"
      ]
     },
     "execution_count": 11,
     "metadata": {},
     "output_type": "execute_result"
    },
    {
     "data": {
      "image/png": "[encoded data removed]",
      "text/plain": [
       "<Figure size 432x288 with 1 Axes>"
      ]
     },
     "metadata": {
      "needs_background": "light"
     },
     "output_type": "display_data"
    }
   ],
   "source": [
    "grouped_status=customer_reto.groupby(['Marital_Status']).sum()['Response']\n",
    "print(grouped_status)\n",
    "(grouped_status.plot.bar())"
   ]
  },
  {
   "cell_type": "code",
   "execution_count": 12,
   "id": "8d70dde0",
   "metadata": {},
   "outputs": [
    {
     "name": "stdout",
     "output_type": "stream",
     "text": [
      "Marital_Status\n",
      "Absurd      0.500000\n",
      "Alone       0.333333\n",
      "Divorced    0.206897\n",
      "Married     0.113426\n",
      "Single      0.220833\n",
      "Together    0.103448\n",
      "Widow       0.246753\n",
      "YOLO        0.500000\n",
      "Name: Response, dtype: float64\n"
     ]
    },
    {
     "data": {
      "text/plain": [
       "<AxesSubplot:xlabel='Marital_Status'>"
      ]
     },
     "execution_count": 12,
     "metadata": {},
     "output_type": "execute_result"
    },
    {
     "data": {
      "image/png": "[encoded data removed]",
      "text/plain": [
       "<Figure size 432x288 with 1 Axes>"
      ]
     },
     "metadata": {
      "needs_background": "light"
     },
     "output_type": "display_data"
    }
   ],
   "source": [
    "grouped_status2=customer_reto.groupby(['Marital_Status']).mean()['Response']\n",
    "print(grouped_status2)\n",
    "(grouped_status2.plot.bar())"
   ]
  },
  {
   "cell_type": "markdown",
   "id": "462dd517",
   "metadata": {},
   "source": [
    "Now, I want to take proportionality into account, so I calculate the average response according to marital status\n",
    "1. We realize that YOLO, Absurd and Alone have high success rates but since very few clients belong to these categories, the analysis continues.\n",
    "2. We can see that with divorced, single and widowed clients there was a higher campaign success rate."
   ]
  },
  {
   "cell_type": "code",
   "execution_count": 13,
   "id": "9bab558c",
   "metadata": {},
   "outputs": [
    {
     "name": "stdout",
     "output_type": "stream",
     "text": [
      "Response\n",
      "0    50839.132767\n",
      "1    60209.675676\n",
      "Name: Income, dtype: float64\n"
     ]
    },
    {
     "data": {
      "text/plain": [
       "<AxesSubplot:xlabel='Response'>"
      ]
     },
     "execution_count": 13,
     "metadata": {},
     "output_type": "execute_result"
    },
    {
     "data": {
      "image/png": "[encoded data removed]",
      "text/plain": [
       "<Figure size 432x288 with 1 Axes>"
      ]
     },
     "metadata": {
      "needs_background": "light"
     },
     "output_type": "display_data"
    }
   ],
   "source": [
    "grouped_income=customer_reto.groupby(['Response']).mean()['Income']\n",
    "print(grouped_income)\n",
    "(grouped_income.plot.bar()) "
   ]
  },
  {
   "cell_type": "markdown",
   "id": "26fbeaee",
   "metadata": {},
   "source": [
    "Other importante feature is the average income, that is higher for those clientes who accepted the offer."
   ]
  },
  {
   "cell_type": "code",
   "execution_count": 14,
   "id": "8c6234e5",
   "metadata": {},
   "outputs": [
    {
     "name": "stdout",
     "output_type": "stream",
     "text": [
      "Response\n",
      "0    0.462225\n",
      "1    0.341317\n",
      "Name: Kidhome, dtype: float64\n"
     ]
    },
    {
     "data": {
      "text/plain": [
       "<AxesSubplot:xlabel='Response'>"
      ]
     },
     "execution_count": 14,
     "metadata": {},
     "output_type": "execute_result"
    },
    {
     "data": {
      "image/png": "[encoded data removed]",
      "text/plain": [
       "<Figure size 432x288 with 1 Axes>"
      ]
     },
     "metadata": {
      "needs_background": "light"
     },
     "output_type": "display_data"
    }
   ],
   "source": [
    "grouped_kids=customer_reto.groupby(['Response']).mean()['Kidhome']\n",
    "print(grouped_kids)\n",
    "(grouped_kids.plot.bar())"
   ]
  },
  {
   "cell_type": "code",
   "execution_count": 15,
   "id": "f78f4f81",
   "metadata": {},
   "outputs": [
    {
     "name": "stdout",
     "output_type": "stream",
     "text": [
      "Response\n",
      "0    0.541448\n",
      "1    0.305389\n",
      "Name: Teenhome, dtype: float64\n"
     ]
    },
    {
     "data": {
      "text/plain": [
       "<AxesSubplot:xlabel='Response'>"
      ]
     },
     "execution_count": 15,
     "metadata": {},
     "output_type": "execute_result"
    },
    {
     "data": {
      "image/png": "[encoded data removed]",
      "text/plain": [
       "<Figure size 432x288 with 1 Axes>"
      ]
     },
     "metadata": {
      "needs_background": "light"
     },
     "output_type": "display_data"
    }
   ],
   "source": [
    "grouped_teen=customer_reto.groupby(['Response']).mean()['Teenhome']\n",
    "print(grouped_teen)\n",
    "(grouped_teen.plot.bar())"
   ]
  },
  {
   "cell_type": "markdown",
   "id": "11bbdc6d",
   "metadata": {},
   "source": [
    "With the previous and actual plot is possible conclude that there is a similar behavior between living with child/teen and \n",
    "accept the campaign"
   ]
  },
  {
   "cell_type": "code",
   "execution_count": 16,
   "id": "2b94d756",
   "metadata": {},
   "outputs": [],
   "source": [
    "consumption=['MntWines', 'MntFruits','MntMeatProducts', 'MntFishProducts', 'MntSweetProducts','MntGoldProds', \n",
    "             'NumDealsPurchases', 'NumWebPurchases','NumCatalogPurchases', 'NumStorePurchases', 'NumWebVisitsMonth']"
   ]
  },
  {
   "cell_type": "markdown",
   "id": "71cbc713",
   "metadata": {},
   "source": [
    "This list contains the variables with consumption habits info and is used for the next gruopby."
   ]
  },
  {
   "cell_type": "code",
   "execution_count": 17,
   "id": "cc78c1fd",
   "metadata": {},
   "outputs": [
    {
     "name": "stdout",
     "output_type": "stream",
     "text": [
      "            MntWines  MntFruits  MntMeatProducts  MntFishProducts  \\\n",
      "Response                                                            \n",
      "0         269.104407  24.216684       144.624344        34.980063   \n",
      "1         502.703593  38.203593       294.353293        52.050898   \n",
      "\n",
      "          MntSweetProducts  MntGoldProds  NumDealsPurchases  NumWebPurchases  \\\n",
      "Response                                                                       \n",
      "0                25.035152     40.968520           2.323190         3.911857   \n",
      "1                38.634731     61.446108           2.335329         5.071856   \n",
      "\n",
      "          NumCatalogPurchases  NumStorePurchases  NumWebVisitsMonth  \n",
      "Response                                                             \n",
      "0                    2.391920           5.736621           5.320567  \n",
      "1                    4.203593           6.095808           5.293413  \n"
     ]
    }
   ],
   "source": [
    "grouped_consumption=customer_reto.groupby('Response')[consumption].mean()\n",
    "print(grouped_consumption)"
   ]
  },
  {
   "cell_type": "markdown",
   "id": "5fc11ea9",
   "metadata": {},
   "source": [
    "The costumers who accepted the offer in the last campaign spent more and frequently on different products from the company."
   ]
  },
  {
   "cell_type": "markdown",
   "id": "aa64cb9e",
   "metadata": {},
   "source": [
    "# 2. Customer segmentation\n",
    "\n",
    "To that will be install the next dependencies:"
   ]
  },
  {
   "cell_type": "code",
   "execution_count": 18,
   "id": "87065562",
   "metadata": {},
   "outputs": [],
   "source": [
    "import time\n",
    "\n",
    "import numpy as np\n",
    "import pandas as pd\n",
    "import sklearn\n",
    "from sklearn import cluster        # Clustering\n",
    "from sklearn.cluster import KMeans        # Clustering Algorithms \n",
    "from sklearn import datasets       # Create datasets.\n",
    "from sklearn import decomposition  # Dimensionality reduction.\n",
    "\n",
    "# Visualization.\n",
    "import matplotlib\n",
    "import matplotlib.pyplot as plt\n",
    "\n",
    "\n",
    "\n",
    "%matplotlib inline"
   ]
  },
  {
   "cell_type": "code",
   "execution_count": 19,
   "id": "c8e751c9",
   "metadata": {},
   "outputs": [
    {
     "data": {
      "text/html": [
       "<div>\n",
       "<style scoped>\n",
       "    .dataframe tbody tr th:only-of-type {\n",
       "        vertical-align: middle;\n",
       "    }\n",
       "\n",
       "    .dataframe tbody tr th {\n",
       "        vertical-align: top;\n",
       "    }\n",
       "\n",
       "    .dataframe thead th {\n",
       "        text-align: right;\n",
       "    }\n",
       "</style>\n",
       "<table border=\"1\" class=\"dataframe\">\n",
       "  <thead>\n",
       "    <tr style=\"text-align: right;\">\n",
       "      <th></th>\n",
       "      <th>ID</th>\n",
       "      <th>Year_Birth</th>\n",
       "      <th>Education</th>\n",
       "      <th>Marital_Status</th>\n",
       "      <th>Income</th>\n",
       "      <th>Kidhome</th>\n",
       "      <th>Teenhome</th>\n",
       "      <th>Dt_Customer</th>\n",
       "      <th>Recency</th>\n",
       "      <th>MntWines</th>\n",
       "      <th>...</th>\n",
       "      <th>NumWebVisitsMonth</th>\n",
       "      <th>AcceptedCmp3</th>\n",
       "      <th>AcceptedCmp4</th>\n",
       "      <th>AcceptedCmp5</th>\n",
       "      <th>AcceptedCmp1</th>\n",
       "      <th>AcceptedCmp2</th>\n",
       "      <th>Complain</th>\n",
       "      <th>Z_CostContact</th>\n",
       "      <th>Z_Revenue</th>\n",
       "      <th>Response</th>\n",
       "    </tr>\n",
       "  </thead>\n",
       "  <tbody>\n",
       "    <tr>\n",
       "      <th>0</th>\n",
       "      <td>5524</td>\n",
       "      <td>1957</td>\n",
       "      <td>Graduation</td>\n",
       "      <td>Single</td>\n",
       "      <td>58138.0</td>\n",
       "      <td>0</td>\n",
       "      <td>0</td>\n",
       "      <td>2012-09-04</td>\n",
       "      <td>58</td>\n",
       "      <td>635</td>\n",
       "      <td>...</td>\n",
       "      <td>7</td>\n",
       "      <td>0</td>\n",
       "      <td>0</td>\n",
       "      <td>0</td>\n",
       "      <td>0</td>\n",
       "      <td>0</td>\n",
       "      <td>0</td>\n",
       "      <td>3</td>\n",
       "      <td>11</td>\n",
       "      <td>1</td>\n",
       "    </tr>\n",
       "    <tr>\n",
       "      <th>1</th>\n",
       "      <td>2174</td>\n",
       "      <td>1954</td>\n",
       "      <td>Graduation</td>\n",
       "      <td>Single</td>\n",
       "      <td>46344.0</td>\n",
       "      <td>1</td>\n",
       "      <td>1</td>\n",
       "      <td>2014-03-08</td>\n",
       "      <td>38</td>\n",
       "      <td>11</td>\n",
       "      <td>...</td>\n",
       "      <td>5</td>\n",
       "      <td>0</td>\n",
       "      <td>0</td>\n",
       "      <td>0</td>\n",
       "      <td>0</td>\n",
       "      <td>0</td>\n",
       "      <td>0</td>\n",
       "      <td>3</td>\n",
       "      <td>11</td>\n",
       "      <td>0</td>\n",
       "    </tr>\n",
       "    <tr>\n",
       "      <th>2</th>\n",
       "      <td>4141</td>\n",
       "      <td>1965</td>\n",
       "      <td>Graduation</td>\n",
       "      <td>Together</td>\n",
       "      <td>71613.0</td>\n",
       "      <td>0</td>\n",
       "      <td>0</td>\n",
       "      <td>2013-08-21</td>\n",
       "      <td>26</td>\n",
       "      <td>426</td>\n",
       "      <td>...</td>\n",
       "      <td>4</td>\n",
       "      <td>0</td>\n",
       "      <td>0</td>\n",
       "      <td>0</td>\n",
       "      <td>0</td>\n",
       "      <td>0</td>\n",
       "      <td>0</td>\n",
       "      <td>3</td>\n",
       "      <td>11</td>\n",
       "      <td>0</td>\n",
       "    </tr>\n",
       "    <tr>\n",
       "      <th>3</th>\n",
       "      <td>6182</td>\n",
       "      <td>1984</td>\n",
       "      <td>Graduation</td>\n",
       "      <td>Together</td>\n",
       "      <td>26646.0</td>\n",
       "      <td>1</td>\n",
       "      <td>0</td>\n",
       "      <td>2014-02-10</td>\n",
       "      <td>26</td>\n",
       "      <td>11</td>\n",
       "      <td>...</td>\n",
       "      <td>6</td>\n",
       "      <td>0</td>\n",
       "      <td>0</td>\n",
       "      <td>0</td>\n",
       "      <td>0</td>\n",
       "      <td>0</td>\n",
       "      <td>0</td>\n",
       "      <td>3</td>\n",
       "      <td>11</td>\n",
       "      <td>0</td>\n",
       "    </tr>\n",
       "    <tr>\n",
       "      <th>4</th>\n",
       "      <td>5324</td>\n",
       "      <td>1981</td>\n",
       "      <td>PhD</td>\n",
       "      <td>Married</td>\n",
       "      <td>58293.0</td>\n",
       "      <td>1</td>\n",
       "      <td>0</td>\n",
       "      <td>2014-01-19</td>\n",
       "      <td>94</td>\n",
       "      <td>173</td>\n",
       "      <td>...</td>\n",
       "      <td>5</td>\n",
       "      <td>0</td>\n",
       "      <td>0</td>\n",
       "      <td>0</td>\n",
       "      <td>0</td>\n",
       "      <td>0</td>\n",
       "      <td>0</td>\n",
       "      <td>3</td>\n",
       "      <td>11</td>\n",
       "      <td>0</td>\n",
       "    </tr>\n",
       "  </tbody>\n",
       "</table>\n",
       "<p>5 rows × 29 columns</p>\n",
       "</div>"
      ],
      "text/plain": [
       "     ID  Year_Birth   Education Marital_Status   Income  Kidhome  Teenhome  \\\n",
       "0  5524        1957  Graduation         Single  58138.0        0         0   \n",
       "1  2174        1954  Graduation         Single  46344.0        1         1   \n",
       "2  4141        1965  Graduation       Together  71613.0        0         0   \n",
       "3  6182        1984  Graduation       Together  26646.0        1         0   \n",
       "4  5324        1981         PhD        Married  58293.0        1         0   \n",
       "\n",
       "  Dt_Customer  Recency  MntWines  ...  NumWebVisitsMonth  AcceptedCmp3  \\\n",
       "0  2012-09-04       58       635  ...                  7             0   \n",
       "1  2014-03-08       38        11  ...                  5             0   \n",
       "2  2013-08-21       26       426  ...                  4             0   \n",
       "3  2014-02-10       26        11  ...                  6             0   \n",
       "4  2014-01-19       94       173  ...                  5             0   \n",
       "\n",
       "   AcceptedCmp4  AcceptedCmp5  AcceptedCmp1  AcceptedCmp2  Complain  \\\n",
       "0             0             0             0             0         0   \n",
       "1             0             0             0             0         0   \n",
       "2             0             0             0             0         0   \n",
       "3             0             0             0             0         0   \n",
       "4             0             0             0             0         0   \n",
       "\n",
       "   Z_CostContact  Z_Revenue  Response  \n",
       "0              3         11         1  \n",
       "1              3         11         0  \n",
       "2              3         11         0  \n",
       "3              3         11         0  \n",
       "4              3         11         0  \n",
       "\n",
       "[5 rows x 29 columns]"
      ]
     },
     "execution_count": 19,
     "metadata": {},
     "output_type": "execute_result"
    }
   ],
   "source": [
    "df = customer_reto\n",
    "df.head()"
   ]
  },
  {
   "cell_type": "code",
   "execution_count": 20,
   "id": "2ef43b3f",
   "metadata": {},
   "outputs": [
    {
     "data": {
      "text/plain": [
       "0    1906\n",
       "1     334\n",
       "Name: Response, dtype: int64"
      ]
     },
     "execution_count": 20,
     "metadata": {},
     "output_type": "execute_result"
    },
    {
     "data": {
      "image/png": "[encoded data removed]",
      "text/plain": [
       "<Figure size 432x288 with 1 Axes>"
      ]
     },
     "metadata": {
      "needs_background": "light"
     },
     "output_type": "display_data"
    }
   ],
   "source": [
    "df['Response'].hist()\n",
    "df['Response'].value_counts()"
   ]
  },
  {
   "cell_type": "markdown",
   "id": "26d00544",
   "metadata": {},
   "source": [
    "First we will delete the null data"
   ]
  },
  {
   "cell_type": "code",
   "execution_count": 21,
   "id": "ae4e8174",
   "metadata": {},
   "outputs": [],
   "source": [
    "df=df.dropna()"
   ]
  },
  {
   "cell_type": "markdown",
   "id": "19f6999b",
   "metadata": {},
   "source": [
    "Delete the outlier"
   ]
  },
  {
   "cell_type": "code",
   "execution_count": 22,
   "id": "15dc35ed",
   "metadata": {},
   "outputs": [],
   "source": [
    "df=df[df['ID'] != 9432]"
   ]
  },
  {
   "cell_type": "markdown",
   "id": "cdd18190",
   "metadata": {},
   "source": [
    "then we will sepate the inputs from the outputs:"
   ]
  },
  {
   "cell_type": "code",
   "execution_count": 23,
   "id": "4aeaa4f2",
   "metadata": {},
   "outputs": [],
   "source": [
    "# create new copy variable\n",
    "X = df.copy()\n",
    "\n",
    "# The total spent on the products (wine, meat, fish, etc) in the last 2 years\n",
    "X['consumption_habit']=df['MntWines']+df['MntFruits']+df['MntMeatProducts']+df['MntFishProducts']+df['MntSweetProducts']\n",
    "\n",
    "# purchase behavior, number of purchases made\n",
    "X['purchases']=df['NumWebPurchases']+df['NumCatalogPurchases']+df['NumStorePurchases']\n",
    "\n",
    "# if live with minors (kid or teenager)\n",
    "X['Minorhome2']=df['Kidhome']+df['Teenhome']>0\n",
    "X['Minorhome']=X['Minorhome2'].apply(lambda ac2: 1 if ac2 else 0)\n",
    "\n",
    "# age of customer\n",
    "X['Age']=2022-df['Year_Birth']\n",
    "\n",
    "# if the person has a couple\n",
    "X['Couple'] = df['Marital_Status'].apply(lambda marital_status: 1 if marital_status in ['Married', 'Together'] else 0)\n",
    "\n",
    "# if the person accepted a previous campaign\n",
    "X['Accept_campaign_2']=df['AcceptedCmp1']+df['AcceptedCmp2']+df['AcceptedCmp3']+df['AcceptedCmp4']>0\n",
    "X['Accept_campaign']=X['Accept_campaign_2'].apply(lambda ac2: 1 if ac2 else 0)"
   ]
  },
  {
   "cell_type": "code",
   "execution_count": 24,
   "id": "35ff548d",
   "metadata": {
    "scrolled": false
   },
   "outputs": [
    {
     "data": {
      "text/html": [
       "<div>\n",
       "<style scoped>\n",
       "    .dataframe tbody tr th:only-of-type {\n",
       "        vertical-align: middle;\n",
       "    }\n",
       "\n",
       "    .dataframe tbody tr th {\n",
       "        vertical-align: top;\n",
       "    }\n",
       "\n",
       "    .dataframe thead th {\n",
       "        text-align: right;\n",
       "    }\n",
       "</style>\n",
       "<table border=\"1\" class=\"dataframe\">\n",
       "  <thead>\n",
       "    <tr style=\"text-align: right;\">\n",
       "      <th></th>\n",
       "      <th>Education</th>\n",
       "      <th>Income</th>\n",
       "      <th>Recency</th>\n",
       "      <th>consumption_habit</th>\n",
       "      <th>purchases</th>\n",
       "      <th>Minorhome</th>\n",
       "      <th>Age</th>\n",
       "      <th>Couple</th>\n",
       "      <th>Accept_campaign</th>\n",
       "    </tr>\n",
       "  </thead>\n",
       "  <tbody>\n",
       "    <tr>\n",
       "      <th>0</th>\n",
       "      <td>Graduation</td>\n",
       "      <td>58138.0</td>\n",
       "      <td>58</td>\n",
       "      <td>1529</td>\n",
       "      <td>22</td>\n",
       "      <td>0</td>\n",
       "      <td>65</td>\n",
       "      <td>0</td>\n",
       "      <td>0</td>\n",
       "    </tr>\n",
       "    <tr>\n",
       "      <th>1</th>\n",
       "      <td>Graduation</td>\n",
       "      <td>46344.0</td>\n",
       "      <td>38</td>\n",
       "      <td>21</td>\n",
       "      <td>4</td>\n",
       "      <td>1</td>\n",
       "      <td>68</td>\n",
       "      <td>0</td>\n",
       "      <td>0</td>\n",
       "    </tr>\n",
       "    <tr>\n",
       "      <th>2</th>\n",
       "      <td>Graduation</td>\n",
       "      <td>71613.0</td>\n",
       "      <td>26</td>\n",
       "      <td>734</td>\n",
       "      <td>20</td>\n",
       "      <td>0</td>\n",
       "      <td>57</td>\n",
       "      <td>1</td>\n",
       "      <td>0</td>\n",
       "    </tr>\n",
       "    <tr>\n",
       "      <th>3</th>\n",
       "      <td>Graduation</td>\n",
       "      <td>26646.0</td>\n",
       "      <td>26</td>\n",
       "      <td>48</td>\n",
       "      <td>6</td>\n",
       "      <td>1</td>\n",
       "      <td>38</td>\n",
       "      <td>1</td>\n",
       "      <td>0</td>\n",
       "    </tr>\n",
       "    <tr>\n",
       "      <th>4</th>\n",
       "      <td>PhD</td>\n",
       "      <td>58293.0</td>\n",
       "      <td>94</td>\n",
       "      <td>407</td>\n",
       "      <td>14</td>\n",
       "      <td>1</td>\n",
       "      <td>41</td>\n",
       "      <td>1</td>\n",
       "      <td>0</td>\n",
       "    </tr>\n",
       "  </tbody>\n",
       "</table>\n",
       "</div>"
      ],
      "text/plain": [
       "    Education   Income  Recency  consumption_habit  purchases  Minorhome  Age  \\\n",
       "0  Graduation  58138.0       58               1529         22          0   65   \n",
       "1  Graduation  46344.0       38                 21          4          1   68   \n",
       "2  Graduation  71613.0       26                734         20          0   57   \n",
       "3  Graduation  26646.0       26                 48          6          1   38   \n",
       "4         PhD  58293.0       94                407         14          1   41   \n",
       "\n",
       "   Couple  Accept_campaign  \n",
       "0       0                0  \n",
       "1       0                0  \n",
       "2       1                0  \n",
       "3       1                0  \n",
       "4       1                0  "
      ]
     },
     "execution_count": 24,
     "metadata": {},
     "output_type": "execute_result"
    }
   ],
   "source": [
    "#X=df.drop(columns=['Response', 'Dt_Customer'])\n",
    "X=X.drop(['ID', 'Year_Birth', 'Marital_Status', 'Kidhome',\n",
    "       'Teenhome', 'Dt_Customer', 'MntWines', 'MntFruits',\n",
    "       'MntMeatProducts', 'MntFishProducts', 'MntSweetProducts',\n",
    "       'MntGoldProds', 'NumDealsPurchases', 'NumWebPurchases',\n",
    "       'NumCatalogPurchases', 'NumStorePurchases', 'NumWebVisitsMonth',\n",
    "       'AcceptedCmp3', 'AcceptedCmp4', 'AcceptedCmp5', 'AcceptedCmp1',\n",
    "       'AcceptedCmp2', 'Complain', 'Z_CostContact', 'Z_Revenue', 'Response',\n",
    "       'Accept_campaign_2', 'Minorhome2'], axis=1)\n",
    "\n",
    "X.head()"
   ]
  },
  {
   "cell_type": "code",
   "execution_count": 25,
   "id": "b96961d6",
   "metadata": {},
   "outputs": [
    {
     "data": {
      "text/plain": [
       "0    1\n",
       "1    0\n",
       "2    0\n",
       "3    0\n",
       "4    0\n",
       "Name: Response, dtype: int64"
      ]
     },
     "execution_count": 25,
     "metadata": {},
     "output_type": "execute_result"
    }
   ],
   "source": [
    "y=df['Response']\n",
    "y.head()"
   ]
  },
  {
   "cell_type": "markdown",
   "id": "e0d296ff",
   "metadata": {},
   "source": [
    "We need to get dummies from categorical variables before the clustering:"
   ]
  },
  {
   "cell_type": "code",
   "execution_count": 26,
   "id": "3060c9e2",
   "metadata": {
    "scrolled": true
   },
   "outputs": [
    {
     "data": {
      "text/html": [
       "<div>\n",
       "<style scoped>\n",
       "    .dataframe tbody tr th:only-of-type {\n",
       "        vertical-align: middle;\n",
       "    }\n",
       "\n",
       "    .dataframe tbody tr th {\n",
       "        vertical-align: top;\n",
       "    }\n",
       "\n",
       "    .dataframe thead th {\n",
       "        text-align: right;\n",
       "    }\n",
       "</style>\n",
       "<table border=\"1\" class=\"dataframe\">\n",
       "  <thead>\n",
       "    <tr style=\"text-align: right;\">\n",
       "      <th></th>\n",
       "      <th>Income</th>\n",
       "      <th>Recency</th>\n",
       "      <th>consumption_habit</th>\n",
       "      <th>purchases</th>\n",
       "      <th>Minorhome</th>\n",
       "      <th>Age</th>\n",
       "      <th>Couple</th>\n",
       "      <th>Accept_campaign</th>\n",
       "      <th>Education_Basic</th>\n",
       "      <th>Education_Graduation</th>\n",
       "      <th>Education_Master</th>\n",
       "      <th>Education_PhD</th>\n",
       "    </tr>\n",
       "  </thead>\n",
       "  <tbody>\n",
       "    <tr>\n",
       "      <th>0</th>\n",
       "      <td>58138.0</td>\n",
       "      <td>58</td>\n",
       "      <td>1529</td>\n",
       "      <td>22</td>\n",
       "      <td>0</td>\n",
       "      <td>65</td>\n",
       "      <td>0</td>\n",
       "      <td>0</td>\n",
       "      <td>0</td>\n",
       "      <td>1</td>\n",
       "      <td>0</td>\n",
       "      <td>0</td>\n",
       "    </tr>\n",
       "    <tr>\n",
       "      <th>1</th>\n",
       "      <td>46344.0</td>\n",
       "      <td>38</td>\n",
       "      <td>21</td>\n",
       "      <td>4</td>\n",
       "      <td>1</td>\n",
       "      <td>68</td>\n",
       "      <td>0</td>\n",
       "      <td>0</td>\n",
       "      <td>0</td>\n",
       "      <td>1</td>\n",
       "      <td>0</td>\n",
       "      <td>0</td>\n",
       "    </tr>\n",
       "    <tr>\n",
       "      <th>2</th>\n",
       "      <td>71613.0</td>\n",
       "      <td>26</td>\n",
       "      <td>734</td>\n",
       "      <td>20</td>\n",
       "      <td>0</td>\n",
       "      <td>57</td>\n",
       "      <td>1</td>\n",
       "      <td>0</td>\n",
       "      <td>0</td>\n",
       "      <td>1</td>\n",
       "      <td>0</td>\n",
       "      <td>0</td>\n",
       "    </tr>\n",
       "    <tr>\n",
       "      <th>3</th>\n",
       "      <td>26646.0</td>\n",
       "      <td>26</td>\n",
       "      <td>48</td>\n",
       "      <td>6</td>\n",
       "      <td>1</td>\n",
       "      <td>38</td>\n",
       "      <td>1</td>\n",
       "      <td>0</td>\n",
       "      <td>0</td>\n",
       "      <td>1</td>\n",
       "      <td>0</td>\n",
       "      <td>0</td>\n",
       "    </tr>\n",
       "    <tr>\n",
       "      <th>4</th>\n",
       "      <td>58293.0</td>\n",
       "      <td>94</td>\n",
       "      <td>407</td>\n",
       "      <td>14</td>\n",
       "      <td>1</td>\n",
       "      <td>41</td>\n",
       "      <td>1</td>\n",
       "      <td>0</td>\n",
       "      <td>0</td>\n",
       "      <td>0</td>\n",
       "      <td>0</td>\n",
       "      <td>1</td>\n",
       "    </tr>\n",
       "  </tbody>\n",
       "</table>\n",
       "</div>"
      ],
      "text/plain": [
       "    Income  Recency  consumption_habit  purchases  Minorhome  Age  Couple  \\\n",
       "0  58138.0       58               1529         22          0   65       0   \n",
       "1  46344.0       38                 21          4          1   68       0   \n",
       "2  71613.0       26                734         20          0   57       1   \n",
       "3  26646.0       26                 48          6          1   38       1   \n",
       "4  58293.0       94                407         14          1   41       1   \n",
       "\n",
       "   Accept_campaign  Education_Basic  Education_Graduation  Education_Master  \\\n",
       "0                0                0                     1                 0   \n",
       "1                0                0                     1                 0   \n",
       "2                0                0                     1                 0   \n",
       "3                0                0                     1                 0   \n",
       "4                0                0                     0                 0   \n",
       "\n",
       "   Education_PhD  \n",
       "0              0  \n",
       "1              0  \n",
       "2              0  \n",
       "3              0  \n",
       "4              1  "
      ]
     },
     "execution_count": 26,
     "metadata": {},
     "output_type": "execute_result"
    }
   ],
   "source": [
    "X = pd.get_dummies(X, columns = ['Education'], drop_first=True, dtype=np.int64)\n",
    "X.head()"
   ]
  },
  {
   "cell_type": "code",
   "execution_count": 27,
   "id": "47a71247",
   "metadata": {},
   "outputs": [],
   "source": [
    "X['Income'] = X['Income'].astype(np.int64)"
   ]
  },
  {
   "cell_type": "code",
   "execution_count": 28,
   "id": "f454a426",
   "metadata": {},
   "outputs": [
    {
     "data": {
      "text/plain": [
       "Income                  int64\n",
       "Recency                 int64\n",
       "consumption_habit       int64\n",
       "purchases               int64\n",
       "Minorhome               int64\n",
       "Age                     int64\n",
       "Couple                  int64\n",
       "Accept_campaign         int64\n",
       "Education_Basic         int64\n",
       "Education_Graduation    int64\n",
       "Education_Master        int64\n",
       "Education_PhD           int64\n",
       "dtype: object"
      ]
     },
     "execution_count": 28,
     "metadata": {},
     "output_type": "execute_result"
    }
   ],
   "source": [
    "X.dtypes"
   ]
  },
  {
   "cell_type": "code",
   "execution_count": 29,
   "id": "cef3818c",
   "metadata": {},
   "outputs": [],
   "source": [
    "import umap\n",
    "import seaborn as sns\n",
    "from sklearn.preprocessing import StandardScaler\n",
    "from sklearn.decomposition import PCA"
   ]
  },
  {
   "cell_type": "markdown",
   "id": "be417485",
   "metadata": {},
   "source": [
    "# Reduce dimentionality"
   ]
  },
  {
   "cell_type": "code",
   "execution_count": 30,
   "id": "f15cddfe",
   "metadata": {},
   "outputs": [
    {
     "data": {
      "text/plain": [
       "(2215, 2)"
      ]
     },
     "execution_count": 30,
     "metadata": {},
     "output_type": "execute_result"
    }
   ],
   "source": [
    "# PCA\n",
    "pca = PCA(2)\n",
    " \n",
    "#Transform the data\n",
    "pcadf = pca.fit_transform(X)\n",
    " \n",
    "pcadf.shape\n",
    "#pcadf[:, 1].min()"
   ]
  },
  {
   "cell_type": "code",
   "execution_count": 31,
   "id": "b3161bd0",
   "metadata": {},
   "outputs": [],
   "source": [
    "palette = ['red', 'green'] # not buy, yes buy\n",
    "colors = [palette[value] for value in y]"
   ]
  },
  {
   "cell_type": "code",
   "execution_count": 32,
   "id": "186fcb82",
   "metadata": {
    "scrolled": true
   },
   "outputs": [
    {
     "data": {
      "text/plain": [
       "Text(0.5, 1.0, 'PCA projection of X')"
      ]
     },
     "execution_count": 32,
     "metadata": {},
     "output_type": "execute_result"
    },
    {
     "data": {
      "image/png": "[encoded data removed]",
      "text/plain": [
       "<Figure size 432x288 with 1 Axes>"
      ]
     },
     "metadata": {
      "needs_background": "light"
     },
     "output_type": "display_data"
    }
   ],
   "source": [
    "plt.scatter(\n",
    "    pcadf[:, 0],\n",
    "    pcadf[:, 1],\n",
    "    c=colors\n",
    "    #c=[sns.color_palette()[x] for x in df5.species_short.map({\"Adelie\":0, \"Chinstrap\":1, \"Gentoo\":2})]\n",
    ")\n",
    "#plt.gca().set_aspect('equal', 'datalim')\n",
    "plt.title('PCA projection of X', fontsize=24)"
   ]
  },
  {
   "cell_type": "markdown",
   "id": "3bdd2871",
   "metadata": {},
   "source": [
    "The projection PCA is not clustered, so we will try with UMAP"
   ]
  },
  {
   "cell_type": "code",
   "execution_count": 33,
   "id": "0e3825ed",
   "metadata": {
    "scrolled": true
   },
   "outputs": [
    {
     "name": "stderr",
     "output_type": "stream",
     "text": [
      "/home/jorge/miniconda3/envs/ifood/lib/python3.9/site-packages/umap/umap_.py:1760: UserWarning: gradient function is not yet implemented for hamming distance metric; inverse_transform will be unavailable\n",
      "  warn(\n",
      "OMP: Info #276: omp_set_nested routine deprecated, please use omp_set_max_active_levels instead.\n"
     ]
    },
    {
     "data": {
      "text/plain": [
       "(2215, 2)"
      ]
     },
     "execution_count": 33,
     "metadata": {},
     "output_type": "execute_result"
    }
   ],
   "source": [
    "# UMAP\n",
    "reducer = umap.UMAP(metric='hamming', random_state=42)\n",
    "x_data_values = X.values\n",
    "scaled_x_data = StandardScaler().fit_transform(x_data_values)\n",
    "umapdf = reducer.fit_transform(scaled_x_data)\n",
    "umapdf.shape"
   ]
  },
  {
   "cell_type": "code",
   "execution_count": 34,
   "id": "c9d9511a",
   "metadata": {},
   "outputs": [
    {
     "data": {
      "text/plain": [
       "Text(0.5, 1.0, 'UMAP projection of X')"
      ]
     },
     "execution_count": 34,
     "metadata": {},
     "output_type": "execute_result"
    },
    {
     "data": {
      "image/png": "[encoded data removed]",
      "text/plain": [
       "<Figure size 432x288 with 1 Axes>"
      ]
     },
     "metadata": {
      "needs_background": "light"
     },
     "output_type": "display_data"
    }
   ],
   "source": [
    "plt.scatter(\n",
    "    umapdf[:, 0],\n",
    "    umapdf[:, 1],\n",
    "    c=colors\n",
    "    #c=[sns.color_palette()[x] for x in df5.species_short.map({\"Adelie\":0, \"Chinstrap\":1, \"Gentoo\":2})]\n",
    ")\n",
    "plt.gca().set_aspect('equal', 'datalim')\n",
    "plt.title('UMAP projection of X', fontsize=24)"
   ]
  },
  {
   "cell_type": "markdown",
   "id": "7a1a56bb",
   "metadata": {},
   "source": [
    "The UMAP projection is clearly better clustered for drawing"
   ]
  },
  {
   "cell_type": "markdown",
   "id": "399eef1b",
   "metadata": {},
   "source": [
    "# Calculate the optimal K"
   ]
  },
  {
   "cell_type": "code",
   "execution_count": 35,
   "id": "c6a237d0",
   "metadata": {},
   "outputs": [],
   "source": [
    "from sklearn.metrics import r2_score, mean_squared_error"
   ]
  },
  {
   "cell_type": "code",
   "execution_count": 36,
   "id": "bfc03fc3",
   "metadata": {},
   "outputs": [
    {
     "name": "stdout",
     "output_type": "stream",
     "text": [
      "number_of_clusters(k) 9 num_cluster_with_customer_acceptance 5\n",
      "number_of_clusters(k) 10 num_cluster_with_customer_acceptance 3\n",
      "number_of_clusters(k) 11 num_cluster_with_customer_acceptance 1\n",
      "number_of_clusters(k) 12 num_cluster_with_customer_acceptance 10\n",
      "number_of_clusters(k) 13 num_cluster_with_customer_acceptance 11\n",
      "number_of_clusters(k) 14 num_cluster_with_customer_acceptance 4\n",
      "number_of_clusters(k) 15 num_cluster_with_customer_acceptance 11\n",
      "number_of_clusters(k) 16 num_cluster_with_customer_acceptance 6\n",
      "number_of_clusters(k) 17 num_cluster_with_customer_acceptance 8\n",
      "number_of_clusters(k) 18 num_cluster_with_customer_acceptance 10\n",
      "number_of_clusters(k) 18 num_cluster_with_customer_acceptance 17\n",
      "number_of_clusters(k) 19 num_cluster_with_customer_acceptance 5\n",
      "number_of_clusters(k) 19 num_cluster_with_customer_acceptance 17\n"
     ]
    },
    {
     "data": {
      "image/png": "[encoded data removed]",
      "text/plain": [
       "<Figure size 432x288 with 1 Axes>"
      ]
     },
     "metadata": {
      "needs_background": "light"
     },
     "output_type": "display_data"
    }
   ],
   "source": [
    "def get_sse_kmeans_cluster(Xmod: np.ndarray, y_true, k_size: float) -> float:\n",
    "    k_cluster = KMeans(n_clusters=k_size, random_state=0).fit_predict(Xmod)\n",
    "    \n",
    "    num_clusters_success_accept = 0\n",
    "    for k_i in range(0, k_size):\n",
    "        accept_result_in_cluster = y_true[k_cluster == k_i]\n",
    "        num_customers = len(accept_result_in_cluster)\n",
    "        \n",
    "        rate_accept = np.count_nonzero(accept_result_in_cluster==1)/num_customers\n",
    "        if rate_accept > 0.5:\n",
    "            num_clusters_success_accept += 1\n",
    "            print('number_of_clusters(k)', k_size, 'num_cluster_with_customer_acceptance', k_i)\n",
    "    return num_clusters_success_accept\n",
    "\n",
    "k_sizes = list(range(1,20))\n",
    "sses_k = [get_sse_kmeans_cluster(X, y, k_size) for k_size in k_sizes]\n",
    "\n",
    "fig = plt.figure()\n",
    "ax = plt.axes()\n",
    "ax.plot(k_sizes, sses_k, linestyle='-', marker='o', color='b', label='Technique to find the optimal k')\n",
    "plt.plot(k_sizes[2], sses_k[2], \"s\")\n",
    "plt.xlabel('Number of clusters (k)')\n",
    "plt.ylabel('Number of clusters with more than 50% of customer campaign acceptance')\n",
    "plt.legend()\n",
    "for xitem,yitem in np.nditer([k_sizes,sses_k]):\n",
    "        etiqueta = \"{:.1f}\".format(yitem)\n",
    "        plt.annotate(etiqueta, (xitem, yitem), textcoords=\"offset points\",xytext=(0,10),ha=\"center\")"
   ]
  },
  {
   "cell_type": "markdown",
   "id": "405f3477",
   "metadata": {},
   "source": [
    "The optimal k is 9 with our criteria of at least 50% acceptance rate"
   ]
  },
  {
   "cell_type": "code",
   "execution_count": 37,
   "id": "ac5d00c5",
   "metadata": {},
   "outputs": [],
   "source": [
    "from scipy.spatial import ConvexHull\n",
    "from sklearn.metrics import r2_score, mean_absolute_error"
   ]
  },
  {
   "cell_type": "code",
   "execution_count": 38,
   "id": "6172f93f",
   "metadata": {},
   "outputs": [],
   "source": [
    "#plot hull\n",
    "def plot_hull(plt, points, color):\n",
    "    hull = ConvexHull(points)\n",
    "    # get x and y coordinates\n",
    "    # repeat last point to close the polygon\n",
    "    x_hull = np.append(points[hull.vertices,0],\n",
    "                       points[hull.vertices,0][0])\n",
    "    y_hull = np.append(points[hull.vertices,1],\n",
    "                       points[hull.vertices,1][0])\n",
    "    plt.fill(x_hull, y_hull, alpha=0.3, c=color)\n",
    "\n",
    "#plotting the results\n",
    "def plot_results(plt, points, color):\n",
    "    plot_hull(plt, points, color)\n",
    "    plt.scatter(points[:,0] , points[:,1], c=color)"
   ]
  },
  {
   "cell_type": "code",
   "execution_count": 39,
   "id": "d38fa947",
   "metadata": {
    "scrolled": true
   },
   "outputs": [
    {
     "data": {
      "image/png": "[encoded data removed]",
      "text/plain": [
       "<Figure size 792x360 with 2 Axes>"
      ]
     },
     "metadata": {
      "needs_background": "light"
     },
     "output_type": "display_data"
    }
   ],
   "source": [
    "kmeans = KMeans(n_clusters=9, random_state=0).fit(umapdf)\n",
    "pred_clusterk = kmeans.predict(umapdf)\n",
    "\n",
    "# Plot the data by cluster\n",
    "filtered_cluster0 = umapdf[pred_clusterk == 0]\n",
    "filtered_cluster1 = umapdf[pred_clusterk == 1]\n",
    "filtered_cluster2 = umapdf[pred_clusterk == 2]\n",
    "filtered_cluster3 = umapdf[pred_clusterk == 3]\n",
    "filtered_cluster4 = umapdf[pred_clusterk == 4]\n",
    "filtered_cluster5 = umapdf[pred_clusterk == 5]\n",
    "filtered_cluster6 = umapdf[pred_clusterk == 6]\n",
    "filtered_cluster7 = umapdf[pred_clusterk == 7]\n",
    "filtered_cluster8 = umapdf[pred_clusterk == 8]\n",
    "\n",
    "# two plots\n",
    "fig, ax = plt.subplots(1, 2, figsize=(11, 5))\n",
    "\n",
    "# plot results\n",
    "plot_results(ax[0], filtered_cluster0, 'coral')\n",
    "plot_results(ax[0], filtered_cluster1, 'tomato')\n",
    "plot_results(ax[0], filtered_cluster2, 'salmon')\n",
    "plot_results(ax[0], filtered_cluster3, 'red')\n",
    "plot_results(ax[0], filtered_cluster4, 'firebrick')\n",
    "plot_results(ax[0], filtered_cluster5, 'green')\n",
    "plot_results(ax[0], filtered_cluster6, 'orangered')\n",
    "plot_results(ax[0], filtered_cluster7, 'lightcoral')\n",
    "plot_results(ax[0], filtered_cluster8, 'maroon')\n",
    "\n",
    "# Plot the clusters centers\n",
    "ax[0].set_title('UMAP reduction clusters, most acceptance (green), most reject (red scale)')\n",
    "ax[0].scatter(kmeans.cluster_centers_[:, 0],\n",
    "            kmeans.cluster_centers_[:, 1],\n",
    "            s=50, # Set centroid size\n",
    "            c='blue') # Set centroid color\n",
    "\n",
    "ax[1].set_title('UMAP reduction acceptance (green), reject (red)')\n",
    "ax[1].scatter(\n",
    "    umapdf[:, 0],\n",
    "    umapdf[:, 1],\n",
    "    c=colors\n",
    "    #c=[sns.color_palette()[x] for x in df5.species_short.map({\"Adelie\":0, \"Chinstrap\":1, \"Gentoo\":2})]\n",
    ")\n",
    "\n",
    "plt.tight_layout()\n",
    "#plt.show()"
   ]
  },
  {
   "cell_type": "code",
   "execution_count": 40,
   "id": "21005c23",
   "metadata": {},
   "outputs": [],
   "source": [
    "kmeans = KMeans(n_clusters=9, random_state=0).fit(X)\n",
    "pred_clusterk = kmeans.predict(X)\n",
    "\n",
    "X['K_means_cluster'] = pred_clusterk\n",
    "X['Response'] = y"
   ]
  },
  {
   "cell_type": "markdown",
   "id": "b0fbd0f2",
   "metadata": {},
   "source": [
    "The 5th cluster is the only one that has an acceptance rate higher than 50%, the customers in this group has the next features:\n",
    "- A high income\n",
    "- Spends a lot of money on the products offered by the company\n",
    "- Don't live with minors\n",
    "- Has an age above 50 years old\n",
    "- Has a couple\n",
    "- Has accepted a previous campaign\n",
    "- And has an education level of graduation, master or PhD\n"
   ]
  },
  {
   "cell_type": "code",
   "execution_count": 41,
   "id": "a7fc7d93",
   "metadata": {},
   "outputs": [
    {
     "data": {
      "text/html": [
       "<div>\n",
       "<style scoped>\n",
       "    .dataframe tbody tr th:only-of-type {\n",
       "        vertical-align: middle;\n",
       "    }\n",
       "\n",
       "    .dataframe tbody tr th {\n",
       "        vertical-align: top;\n",
       "    }\n",
       "\n",
       "    .dataframe thead th {\n",
       "        text-align: right;\n",
       "    }\n",
       "</style>\n",
       "<table border=\"1\" class=\"dataframe\">\n",
       "  <thead>\n",
       "    <tr style=\"text-align: right;\">\n",
       "      <th></th>\n",
       "      <th>Income</th>\n",
       "      <th>Recency</th>\n",
       "      <th>consumption_habit</th>\n",
       "      <th>purchases</th>\n",
       "      <th>Minorhome</th>\n",
       "      <th>Age</th>\n",
       "      <th>Couple</th>\n",
       "      <th>Accept_campaign</th>\n",
       "      <th>Education_Basic</th>\n",
       "      <th>Education_Graduation</th>\n",
       "      <th>Education_Master</th>\n",
       "      <th>Education_PhD</th>\n",
       "      <th>K_means_cluster</th>\n",
       "      <th>Response</th>\n",
       "    </tr>\n",
       "  </thead>\n",
       "  <tbody>\n",
       "    <tr>\n",
       "      <th>count</th>\n",
       "      <td>97.000000</td>\n",
       "      <td>97.000000</td>\n",
       "      <td>97.000000</td>\n",
       "      <td>97.000000</td>\n",
       "      <td>97.000000</td>\n",
       "      <td>97.000000</td>\n",
       "      <td>97.000000</td>\n",
       "      <td>97.000000</td>\n",
       "      <td>97.0</td>\n",
       "      <td>97.000000</td>\n",
       "      <td>97.000000</td>\n",
       "      <td>97.000000</td>\n",
       "      <td>97.0</td>\n",
       "      <td>97.000000</td>\n",
       "    </tr>\n",
       "    <tr>\n",
       "      <th>mean</th>\n",
       "      <td>90254.896907</td>\n",
       "      <td>50.835052</td>\n",
       "      <td>1534.247423</td>\n",
       "      <td>20.134021</td>\n",
       "      <td>0.113402</td>\n",
       "      <td>51.701031</td>\n",
       "      <td>0.525773</td>\n",
       "      <td>0.525773</td>\n",
       "      <td>0.0</td>\n",
       "      <td>0.494845</td>\n",
       "      <td>0.185567</td>\n",
       "      <td>0.237113</td>\n",
       "      <td>5.0</td>\n",
       "      <td>0.505155</td>\n",
       "    </tr>\n",
       "    <tr>\n",
       "      <th>std</th>\n",
       "      <td>5074.732295</td>\n",
       "      <td>30.801678</td>\n",
       "      <td>468.752112</td>\n",
       "      <td>4.595353</td>\n",
       "      <td>0.318731</td>\n",
       "      <td>13.734207</td>\n",
       "      <td>0.501929</td>\n",
       "      <td>0.501929</td>\n",
       "      <td>0.0</td>\n",
       "      <td>0.502571</td>\n",
       "      <td>0.390776</td>\n",
       "      <td>0.427522</td>\n",
       "      <td>0.0</td>\n",
       "      <td>0.502571</td>\n",
       "    </tr>\n",
       "    <tr>\n",
       "      <th>min</th>\n",
       "      <td>84574.000000</td>\n",
       "      <td>0.000000</td>\n",
       "      <td>274.000000</td>\n",
       "      <td>11.000000</td>\n",
       "      <td>0.000000</td>\n",
       "      <td>28.000000</td>\n",
       "      <td>0.000000</td>\n",
       "      <td>0.000000</td>\n",
       "      <td>0.0</td>\n",
       "      <td>0.000000</td>\n",
       "      <td>0.000000</td>\n",
       "      <td>0.000000</td>\n",
       "      <td>5.0</td>\n",
       "      <td>0.000000</td>\n",
       "    </tr>\n",
       "    <tr>\n",
       "      <th>25%</th>\n",
       "      <td>86429.000000</td>\n",
       "      <td>25.000000</td>\n",
       "      <td>1182.000000</td>\n",
       "      <td>17.000000</td>\n",
       "      <td>0.000000</td>\n",
       "      <td>39.000000</td>\n",
       "      <td>0.000000</td>\n",
       "      <td>0.000000</td>\n",
       "      <td>0.0</td>\n",
       "      <td>0.000000</td>\n",
       "      <td>0.000000</td>\n",
       "      <td>0.000000</td>\n",
       "      <td>5.0</td>\n",
       "      <td>0.000000</td>\n",
       "    </tr>\n",
       "    <tr>\n",
       "      <th>50%</th>\n",
       "      <td>89616.000000</td>\n",
       "      <td>54.000000</td>\n",
       "      <td>1601.000000</td>\n",
       "      <td>19.000000</td>\n",
       "      <td>0.000000</td>\n",
       "      <td>51.000000</td>\n",
       "      <td>1.000000</td>\n",
       "      <td>1.000000</td>\n",
       "      <td>0.0</td>\n",
       "      <td>0.000000</td>\n",
       "      <td>0.000000</td>\n",
       "      <td>0.000000</td>\n",
       "      <td>5.0</td>\n",
       "      <td>1.000000</td>\n",
       "    </tr>\n",
       "    <tr>\n",
       "      <th>75%</th>\n",
       "      <td>92533.000000</td>\n",
       "      <td>75.000000</td>\n",
       "      <td>1920.000000</td>\n",
       "      <td>23.000000</td>\n",
       "      <td>0.000000</td>\n",
       "      <td>63.000000</td>\n",
       "      <td>1.000000</td>\n",
       "      <td>1.000000</td>\n",
       "      <td>0.0</td>\n",
       "      <td>1.000000</td>\n",
       "      <td>0.000000</td>\n",
       "      <td>0.000000</td>\n",
       "      <td>5.0</td>\n",
       "      <td>1.000000</td>\n",
       "    </tr>\n",
       "    <tr>\n",
       "      <th>max</th>\n",
       "      <td>113734.000000</td>\n",
       "      <td>99.000000</td>\n",
       "      <td>2491.000000</td>\n",
       "      <td>31.000000</td>\n",
       "      <td>1.000000</td>\n",
       "      <td>81.000000</td>\n",
       "      <td>1.000000</td>\n",
       "      <td>1.000000</td>\n",
       "      <td>0.0</td>\n",
       "      <td>1.000000</td>\n",
       "      <td>1.000000</td>\n",
       "      <td>1.000000</td>\n",
       "      <td>5.0</td>\n",
       "      <td>1.000000</td>\n",
       "    </tr>\n",
       "  </tbody>\n",
       "</table>\n",
       "</div>"
      ],
      "text/plain": [
       "              Income    Recency  consumption_habit  purchases  Minorhome  \\\n",
       "count      97.000000  97.000000          97.000000  97.000000  97.000000   \n",
       "mean    90254.896907  50.835052        1534.247423  20.134021   0.113402   \n",
       "std      5074.732295  30.801678         468.752112   4.595353   0.318731   \n",
       "min     84574.000000   0.000000         274.000000  11.000000   0.000000   \n",
       "25%     86429.000000  25.000000        1182.000000  17.000000   0.000000   \n",
       "50%     89616.000000  54.000000        1601.000000  19.000000   0.000000   \n",
       "75%     92533.000000  75.000000        1920.000000  23.000000   0.000000   \n",
       "max    113734.000000  99.000000        2491.000000  31.000000   1.000000   \n",
       "\n",
       "             Age     Couple  Accept_campaign  Education_Basic  \\\n",
       "count  97.000000  97.000000        97.000000             97.0   \n",
       "mean   51.701031   0.525773         0.525773              0.0   \n",
       "std    13.734207   0.501929         0.501929              0.0   \n",
       "min    28.000000   0.000000         0.000000              0.0   \n",
       "25%    39.000000   0.000000         0.000000              0.0   \n",
       "50%    51.000000   1.000000         1.000000              0.0   \n",
       "75%    63.000000   1.000000         1.000000              0.0   \n",
       "max    81.000000   1.000000         1.000000              0.0   \n",
       "\n",
       "       Education_Graduation  Education_Master  Education_PhD  K_means_cluster  \\\n",
       "count             97.000000         97.000000      97.000000             97.0   \n",
       "mean               0.494845          0.185567       0.237113              5.0   \n",
       "std                0.502571          0.390776       0.427522              0.0   \n",
       "min                0.000000          0.000000       0.000000              5.0   \n",
       "25%                0.000000          0.000000       0.000000              5.0   \n",
       "50%                0.000000          0.000000       0.000000              5.0   \n",
       "75%                1.000000          0.000000       0.000000              5.0   \n",
       "max                1.000000          1.000000       1.000000              5.0   \n",
       "\n",
       "        Response  \n",
       "count  97.000000  \n",
       "mean    0.505155  \n",
       "std     0.502571  \n",
       "min     0.000000  \n",
       "25%     0.000000  \n",
       "50%     1.000000  \n",
       "75%     1.000000  \n",
       "max     1.000000  "
      ]
     },
     "execution_count": 41,
     "metadata": {},
     "output_type": "execute_result"
    }
   ],
   "source": [
    "X[pred_clusterk == 5].describe() # cluster 5"
   ]
  },
  {
   "cell_type": "code",
   "execution_count": 42,
   "id": "15022aed",
   "metadata": {},
   "outputs": [
    {
     "name": "stdout",
     "output_type": "stream",
     "text": [
      "mean for cluster # 0 is 0.11695906432748537\n",
      "mean for cluster # 1 is 0.2611683848797251\n",
      "mean for cluster # 2 is 0.10139860139860139\n",
      "mean for cluster # 3 is 0.13172043010752688\n",
      "mean for cluster # 4 is 0.0\n",
      "mean for cluster # 5 is 0.5051546391752577\n",
      "mean for cluster # 6 is 0.12742382271468145\n",
      "mean for cluster # 7 is 0.09774436090225563\n",
      "mean for cluster # 8 is 0.0950920245398773\n"
     ]
    }
   ],
   "source": [
    "for k_i in range(0, 9):\n",
    "    m = np.mean(X[pred_clusterk == k_i]['Response'])\n",
    "    print ('mean for cluster #', k_i, 'is', m)"
   ]
  },
  {
   "cell_type": "markdown",
   "id": "82a38e65",
   "metadata": {},
   "source": [
    "# 3. Predictive model (classification)"
   ]
  },
  {
   "cell_type": "markdown",
   "id": "17251703",
   "metadata": {},
   "source": [
    "Before start with the training, we will equiparate the Response variable getting the same count of 0 and 1 in the column to prevent bias:"
   ]
  },
  {
   "cell_type": "code",
   "execution_count": 43,
   "id": "009743b5",
   "metadata": {},
   "outputs": [
    {
     "data": {
      "text/plain": [
       "(333, 14)"
      ]
     },
     "execution_count": 43,
     "metadata": {},
     "output_type": "execute_result"
    }
   ],
   "source": [
    "X[X['Response']==1].shape"
   ]
  },
  {
   "cell_type": "code",
   "execution_count": 44,
   "id": "75687edc",
   "metadata": {
    "scrolled": true
   },
   "outputs": [
    {
     "name": "stdout",
     "output_type": "stream",
     "text": [
      "(333, 14)\n",
      "(333, 14)\n",
      "(666, 14)\n"
     ]
    }
   ],
   "source": [
    "NUMBER_OF_RESPONSE_0 = 333\n",
    "df = X.copy()\n",
    "#df2 = df\n",
    "df_only_0 = df[df['Response']==0].sample(n=NUMBER_OF_RESPONSE_0, replace=False)\n",
    "df_only_1 = df[df['Response']==1]\n",
    "df2 = pd.concat([df_only_0, df_only_1], ignore_index=True)\n",
    "\n",
    "print(df_only_0.shape)\n",
    "print(df_only_1.shape)\n",
    "print(df2.shape)"
   ]
  },
  {
   "cell_type": "code",
   "execution_count": 45,
   "id": "b05971f8",
   "metadata": {},
   "outputs": [
    {
     "data": {
      "text/html": [
       "<div>\n",
       "<style scoped>\n",
       "    .dataframe tbody tr th:only-of-type {\n",
       "        vertical-align: middle;\n",
       "    }\n",
       "\n",
       "    .dataframe tbody tr th {\n",
       "        vertical-align: top;\n",
       "    }\n",
       "\n",
       "    .dataframe thead th {\n",
       "        text-align: right;\n",
       "    }\n",
       "</style>\n",
       "<table border=\"1\" class=\"dataframe\">\n",
       "  <thead>\n",
       "    <tr style=\"text-align: right;\">\n",
       "      <th></th>\n",
       "      <th>Income</th>\n",
       "      <th>Recency</th>\n",
       "      <th>consumption_habit</th>\n",
       "      <th>purchases</th>\n",
       "      <th>Minorhome</th>\n",
       "      <th>Age</th>\n",
       "      <th>Couple</th>\n",
       "      <th>Accept_campaign</th>\n",
       "      <th>Education_Basic</th>\n",
       "      <th>Education_Graduation</th>\n",
       "      <th>Education_Master</th>\n",
       "      <th>Education_PhD</th>\n",
       "      <th>K_means_cluster</th>\n",
       "      <th>Response</th>\n",
       "    </tr>\n",
       "  </thead>\n",
       "  <tbody>\n",
       "    <tr>\n",
       "      <th>0</th>\n",
       "      <td>81843</td>\n",
       "      <td>13</td>\n",
       "      <td>1505</td>\n",
       "      <td>26</td>\n",
       "      <td>0</td>\n",
       "      <td>62</td>\n",
       "      <td>1</td>\n",
       "      <td>0</td>\n",
       "      <td>0</td>\n",
       "      <td>0</td>\n",
       "      <td>1</td>\n",
       "      <td>0</td>\n",
       "      <td>1</td>\n",
       "      <td>0</td>\n",
       "    </tr>\n",
       "    <tr>\n",
       "      <th>1</th>\n",
       "      <td>68682</td>\n",
       "      <td>56</td>\n",
       "      <td>1553</td>\n",
       "      <td>23</td>\n",
       "      <td>0</td>\n",
       "      <td>31</td>\n",
       "      <td>1</td>\n",
       "      <td>0</td>\n",
       "      <td>0</td>\n",
       "      <td>0</td>\n",
       "      <td>0</td>\n",
       "      <td>1</td>\n",
       "      <td>3</td>\n",
       "      <td>0</td>\n",
       "    </tr>\n",
       "    <tr>\n",
       "      <th>2</th>\n",
       "      <td>42429</td>\n",
       "      <td>99</td>\n",
       "      <td>63</td>\n",
       "      <td>5</td>\n",
       "      <td>1</td>\n",
       "      <td>49</td>\n",
       "      <td>0</td>\n",
       "      <td>0</td>\n",
       "      <td>0</td>\n",
       "      <td>1</td>\n",
       "      <td>0</td>\n",
       "      <td>0</td>\n",
       "      <td>0</td>\n",
       "      <td>0</td>\n",
       "    </tr>\n",
       "    <tr>\n",
       "      <th>3</th>\n",
       "      <td>19789</td>\n",
       "      <td>24</td>\n",
       "      <td>50</td>\n",
       "      <td>6</td>\n",
       "      <td>1</td>\n",
       "      <td>47</td>\n",
       "      <td>1</td>\n",
       "      <td>1</td>\n",
       "      <td>0</td>\n",
       "      <td>0</td>\n",
       "      <td>0</td>\n",
       "      <td>0</td>\n",
       "      <td>7</td>\n",
       "      <td>0</td>\n",
       "    </tr>\n",
       "    <tr>\n",
       "      <th>4</th>\n",
       "      <td>50150</td>\n",
       "      <td>32</td>\n",
       "      <td>399</td>\n",
       "      <td>14</td>\n",
       "      <td>0</td>\n",
       "      <td>39</td>\n",
       "      <td>1</td>\n",
       "      <td>0</td>\n",
       "      <td>0</td>\n",
       "      <td>0</td>\n",
       "      <td>0</td>\n",
       "      <td>1</td>\n",
       "      <td>0</td>\n",
       "      <td>0</td>\n",
       "    </tr>\n",
       "  </tbody>\n",
       "</table>\n",
       "</div>"
      ],
      "text/plain": [
       "   Income  Recency  consumption_habit  purchases  Minorhome  Age  Couple  \\\n",
       "0   81843       13               1505         26          0   62       1   \n",
       "1   68682       56               1553         23          0   31       1   \n",
       "2   42429       99                 63          5          1   49       0   \n",
       "3   19789       24                 50          6          1   47       1   \n",
       "4   50150       32                399         14          0   39       1   \n",
       "\n",
       "   Accept_campaign  Education_Basic  Education_Graduation  Education_Master  \\\n",
       "0                0                0                     0                 1   \n",
       "1                0                0                     0                 0   \n",
       "2                0                0                     1                 0   \n",
       "3                1                0                     0                 0   \n",
       "4                0                0                     0                 0   \n",
       "\n",
       "   Education_PhD  K_means_cluster  Response  \n",
       "0              0                1         0  \n",
       "1              1                3         0  \n",
       "2              0                0         0  \n",
       "3              0                7         0  \n",
       "4              1                0         0  "
      ]
     },
     "execution_count": 45,
     "metadata": {},
     "output_type": "execute_result"
    }
   ],
   "source": [
    "df2.head()"
   ]
  },
  {
   "cell_type": "markdown",
   "id": "e5e34fa3",
   "metadata": {},
   "source": [
    "See correlation matrix to remove unreleated variables from the dataframe"
   ]
  },
  {
   "cell_type": "code",
   "execution_count": 46,
   "id": "4631e6bb",
   "metadata": {
    "scrolled": false
   },
   "outputs": [
    {
     "data": {
      "image/png": "[encoded data removed]",
      "text/plain": [
       "<Figure size 1080x576 with 2 Axes>"
      ]
     },
     "metadata": {},
     "output_type": "display_data"
    }
   ],
   "source": [
    "corrMatrix = df2.corr()\n",
    "sns.set(rc = {'figure.figsize':(15,8)})\n",
    "sns.heatmap(corrMatrix, annot=True)\n",
    "plt.show()\n",
    "sns.reset_orig()"
   ]
  },
  {
   "cell_type": "markdown",
   "id": "d8a63283",
   "metadata": {},
   "source": [
    "It's necesary to eliminate of the model those variables that has strong correlation with each other, we eliminate incomes and purchases. Also, those variables with a little correlation must be eliminated too."
   ]
  },
  {
   "cell_type": "code",
   "execution_count": 47,
   "id": "3c82decf",
   "metadata": {},
   "outputs": [
    {
     "data": {
      "text/html": [
       "<div>\n",
       "<style scoped>\n",
       "    .dataframe tbody tr th:only-of-type {\n",
       "        vertical-align: middle;\n",
       "    }\n",
       "\n",
       "    .dataframe tbody tr th {\n",
       "        vertical-align: top;\n",
       "    }\n",
       "\n",
       "    .dataframe thead th {\n",
       "        text-align: right;\n",
       "    }\n",
       "</style>\n",
       "<table border=\"1\" class=\"dataframe\">\n",
       "  <thead>\n",
       "    <tr style=\"text-align: right;\">\n",
       "      <th></th>\n",
       "      <th>Recency</th>\n",
       "      <th>consumption_habit</th>\n",
       "      <th>Minorhome</th>\n",
       "      <th>Couple</th>\n",
       "      <th>Accept_campaign</th>\n",
       "    </tr>\n",
       "  </thead>\n",
       "  <tbody>\n",
       "    <tr>\n",
       "      <th>0</th>\n",
       "      <td>13</td>\n",
       "      <td>1505</td>\n",
       "      <td>0</td>\n",
       "      <td>1</td>\n",
       "      <td>0</td>\n",
       "    </tr>\n",
       "    <tr>\n",
       "      <th>1</th>\n",
       "      <td>56</td>\n",
       "      <td>1553</td>\n",
       "      <td>0</td>\n",
       "      <td>1</td>\n",
       "      <td>0</td>\n",
       "    </tr>\n",
       "    <tr>\n",
       "      <th>2</th>\n",
       "      <td>99</td>\n",
       "      <td>63</td>\n",
       "      <td>1</td>\n",
       "      <td>0</td>\n",
       "      <td>0</td>\n",
       "    </tr>\n",
       "    <tr>\n",
       "      <th>3</th>\n",
       "      <td>24</td>\n",
       "      <td>50</td>\n",
       "      <td>1</td>\n",
       "      <td>1</td>\n",
       "      <td>1</td>\n",
       "    </tr>\n",
       "    <tr>\n",
       "      <th>4</th>\n",
       "      <td>32</td>\n",
       "      <td>399</td>\n",
       "      <td>0</td>\n",
       "      <td>1</td>\n",
       "      <td>0</td>\n",
       "    </tr>\n",
       "  </tbody>\n",
       "</table>\n",
       "</div>"
      ],
      "text/plain": [
       "   Recency  consumption_habit  Minorhome  Couple  Accept_campaign\n",
       "0       13               1505          0       1                0\n",
       "1       56               1553          0       1                0\n",
       "2       99                 63          1       0                0\n",
       "3       24                 50          1       1                1\n",
       "4       32                399          0       1                0"
      ]
     },
     "execution_count": 47,
     "metadata": {},
     "output_type": "execute_result"
    }
   ],
   "source": [
    "y = df2['Response']\n",
    "X = df2.drop(['Response', 'K_means_cluster', 'Income', 'purchases', 'Age', 'Education_Basic', 'Education_Graduation', 'Education_Master', 'Education_PhD'], axis=1)\n",
    "X.head()"
   ]
  },
  {
   "cell_type": "code",
   "execution_count": 48,
   "id": "88c7d4d0",
   "metadata": {
    "scrolled": true
   },
   "outputs": [
    {
     "data": {
      "text/plain": [
       "0    0\n",
       "1    0\n",
       "2    0\n",
       "3    0\n",
       "4    0\n",
       "Name: Response, dtype: int64"
      ]
     },
     "execution_count": 48,
     "metadata": {},
     "output_type": "execute_result"
    }
   ],
   "source": [
    "y.head()"
   ]
  },
  {
   "cell_type": "code",
   "execution_count": 49,
   "id": "a129d535",
   "metadata": {},
   "outputs": [
    {
     "data": {
      "text/plain": [
       "(array([333.,   0.,   0.,   0.,   0.,   0.,   0.,   0.,   0., 333.]),\n",
       " array([0. , 0.1, 0.2, 0.3, 0.4, 0.5, 0.6, 0.7, 0.8, 0.9, 1. ]),\n",
       " <BarContainer object of 10 artists>)"
      ]
     },
     "execution_count": 49,
     "metadata": {},
     "output_type": "execute_result"
    },
    {
     "data": {
      "image/png": "[encoded data removed]",
      "text/plain": [
       "<Figure size 432x288 with 1 Axes>"
      ]
     },
     "metadata": {
      "needs_background": "light"
     },
     "output_type": "display_data"
    }
   ],
   "source": [
    "plt.hist(y)"
   ]
  },
  {
   "cell_type": "code",
   "execution_count": 50,
   "id": "b8a97072",
   "metadata": {},
   "outputs": [],
   "source": [
    "from sklearn.model_selection import train_test_split, cross_val_score, GridSearchCV\n",
    "from sklearn.linear_model import LogisticRegression\n",
    "from sklearn.ensemble import RandomForestRegressor"
   ]
  },
  {
   "cell_type": "code",
   "execution_count": 51,
   "id": "1d9e800d",
   "metadata": {},
   "outputs": [],
   "source": [
    "X_train, X_test, y_train, y_test = train_test_split(X, y, test_size=0.3, random_state = 42)"
   ]
  },
  {
   "cell_type": "code",
   "execution_count": 52,
   "id": "7d47621f",
   "metadata": {},
   "outputs": [],
   "source": [
    "lg = LogisticRegression(random_state=3, max_iter=10000).fit(X_train, y_train)"
   ]
  },
  {
   "cell_type": "markdown",
   "id": "fefba34d",
   "metadata": {},
   "source": [
    "Hyperparamenters Tuning"
   ]
  },
  {
   "cell_type": "code",
   "execution_count": 53,
   "id": "82e4d1ec",
   "metadata": {},
   "outputs": [
    {
     "name": "stdout",
     "output_type": "stream",
     "text": [
      "seconds: 6.201817512512207 , minutes: 0.10336362520853679\n",
      "params tried: [{'class_weight': None, 'solver': 'newton-cg'}, {'class_weight': None, 'solver': 'lbfgs'}, {'class_weight': None, 'solver': 'liblinear'}, {'class_weight': None, 'solver': 'sag'}, {'class_weight': None, 'solver': 'saga'}, {'class_weight': 'balanced', 'solver': 'newton-cg'}, {'class_weight': 'balanced', 'solver': 'lbfgs'}, {'class_weight': 'balanced', 'solver': 'liblinear'}, {'class_weight': 'balanced', 'solver': 'sag'}, {'class_weight': 'balanced', 'solver': 'saga'}]\n",
      "\n",
      "\n",
      "Best parameters: {'C': 1.0, 'class_weight': 'balanced', 'dual': False, 'fit_intercept': True, 'intercept_scaling': 1, 'l1_ratio': None, 'max_iter': 10000, 'multi_class': 'auto', 'n_jobs': None, 'penalty': 'l2', 'random_state': 3, 'solver': 'lbfgs', 'tol': 0.0001, 'verbose': 0, 'warm_start': False}\n"
     ]
    }
   ],
   "source": [
    "hyperparamenters = {\n",
    "    #'penalty': ['none', 'l2', 'l1', 'elasticnet'],\n",
    "    #'dual': [True, False],\n",
    "    'class_weight': [None, 'balanced'],\n",
    "    'solver': ['newton-cg', 'lbfgs', 'liblinear', 'sag', 'saga'],\n",
    "}\n",
    "\n",
    "start = time.time()\n",
    "grid = GridSearchCV(lg, hyperparamenters, cv=4, scoring='accuracy')\n",
    "grid.fit(X_train, y_train)\n",
    "end = time.time()\n",
    "seconds = end - start\n",
    "print('seconds:', seconds, ', minutes:', seconds/60)\n",
    "\n",
    "print('params tried:', grid.cv_results_['params'])\n",
    "\n",
    "be = grid.best_estimator_\n",
    "print('\\n\\nBest parameters:', be.get_params(deep=True))"
   ]
  },
  {
   "cell_type": "code",
   "execution_count": 54,
   "id": "b33dbb83",
   "metadata": {},
   "outputs": [],
   "source": [
    "lg = LogisticRegression(random_state=3, dual=False, class_weight='balanced', solver='liblinear', max_iter=2000).fit(X_train, y_train)"
   ]
  },
  {
   "cell_type": "code",
   "execution_count": 55,
   "id": "50ab4c48",
   "metadata": {},
   "outputs": [
    {
     "data": {
      "text/plain": [
       "-0.004587916643635115"
      ]
     },
     "execution_count": 55,
     "metadata": {},
     "output_type": "execute_result"
    }
   ],
   "source": [
    "y_train_pred = lg.predict(X_train)\n",
    "r2_score(y_train, y_train_pred)"
   ]
  },
  {
   "cell_type": "code",
   "execution_count": 56,
   "id": "0339b861",
   "metadata": {},
   "outputs": [
    {
     "data": {
      "text/plain": [
       "-0.02163461538461542"
      ]
     },
     "execution_count": 56,
     "metadata": {},
     "output_type": "execute_result"
    }
   ],
   "source": [
    "y_test_pred = lg.predict(X_test)\n",
    "r2_score(y_test, y_test_pred)"
   ]
  },
  {
   "cell_type": "code",
   "execution_count": 57,
   "id": "193467ae",
   "metadata": {},
   "outputs": [
    {
     "data": {
      "text/plain": [
       "-0.009009009009008917"
      ]
     },
     "execution_count": 57,
     "metadata": {},
     "output_type": "execute_result"
    }
   ],
   "source": [
    "y_pred = lg.predict(X)\n",
    "r2_score(y, y_pred)"
   ]
  },
  {
   "cell_type": "code",
   "execution_count": 58,
   "id": "43f49ed5",
   "metadata": {},
   "outputs": [],
   "source": [
    "from sklearn.metrics import accuracy_score, confusion_matrix, ConfusionMatrixDisplay"
   ]
  },
  {
   "cell_type": "code",
   "execution_count": null,
   "id": "11b6bf14",
   "metadata": {},
   "outputs": [
    {
     "data": {
      "text/plain": [
       "<sklearn.metrics._plot.confusion_matrix.ConfusionMatrixDisplay at 0x7f7ae82e8a30>"
      ]
     },
     "execution_count": 59,
     "metadata": {},
     "output_type": "execute_result"
    }
   ],
   "source": [
    "cm = confusion_matrix(y_test, y_test_pred)\n",
    "disp = ConfusionMatrixDisplay(confusion_matrix=cm)\n",
    "disp.plot()"
   ]
  },
  {
   "cell_type": "markdown",
   "id": "7d308dfd",
   "metadata": {},
   "source": [
    "## Conclusions:\n",
    "- SUCCESS\n",
    "\n",
    "With the descriptive analysis we can visualize certain characteristics of the clients in the costumers database. Likewise,  with the client segmentation was possible to find those clients who meet the necessary characteristics to be the public target for the following marketing campaign.\n",
    "\n",
    "- TO IMPROVE\n",
    "\n",
    "Meanwhile, the prediction model did not give positive results since its R squared is very small and it tells us that the model does not fit the data well. Therefore, it is necessary to propose a different model or organize the model data in a different way so that we can have a prediction with better precision.\n"
   ]
  }
 ],
 "metadata": {
  "kernelspec": {
   "display_name": "Python 3 (ipykernel)",
   "language": "python",
   "name": "python3"
  },
  "language_info": {
   "codemirror_mode": {
    "name": "ipython",
    "version": 3
   },
   "file_extension": ".py",
   "mimetype": "text/x-python",
   "name": "python",
   "nbconvert_exporter": "python",
   "pygments_lexer": "ipython3",
   "version": "3.9.7"
  }
 },
 "nbformat": 4,
 "nbformat_minor": 5
}
